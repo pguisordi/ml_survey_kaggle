{
 "cells": [
  {
   "cell_type": "markdown",
   "metadata": {},
   "source": [
    "### Analysing Data From 2019 Kaggle ML and DS Survey ###"
   ]
  },
  {
   "cell_type": "code",
   "execution_count": 1,
   "metadata": {},
   "outputs": [],
   "source": [
    "import psutil\n",
    "import warnings\n",
    "import numpy as np\n",
    "import plotly as py\n",
    "import pandas as pd\n",
    "import seaborn as sns \n",
    "import matplotlib as plt\n",
    "import plotly.express as px\n",
    "import plotly.graph_objs as go\n",
    "\n",
    "from plotly.offline import download_plotlyjs, init_notebook_mode, plot, iplot\n",
    "\n",
    "import plotly.io as pio\n",
    "pio.renderers.default = \"png\"\n",
    "\n",
    "\n",
    "warnings.filterwarnings(\"ignore\")\n",
    "\n",
    "%matplotlib inline"
   ]
  },
  {
   "cell_type": "code",
   "execution_count": 2,
   "metadata": {
    "scrolled": true
   },
   "outputs": [
    {
     "data": {
      "text/html": [
       "<div>\n",
       "<style scoped>\n",
       "    .dataframe tbody tr th:only-of-type {\n",
       "        vertical-align: middle;\n",
       "    }\n",
       "\n",
       "    .dataframe tbody tr th {\n",
       "        vertical-align: top;\n",
       "    }\n",
       "\n",
       "    .dataframe thead th {\n",
       "        text-align: right;\n",
       "    }\n",
       "</style>\n",
       "<table border=\"1\" class=\"dataframe\">\n",
       "  <thead>\n",
       "    <tr style=\"text-align: right;\">\n",
       "      <th></th>\n",
       "      <th>Time from Start to Finish (seconds)</th>\n",
       "      <th>Q1</th>\n",
       "      <th>Q2</th>\n",
       "      <th>Q2_OTHER_TEXT</th>\n",
       "      <th>Q3</th>\n",
       "      <th>Q4</th>\n",
       "      <th>Q5</th>\n",
       "      <th>Q5_OTHER_TEXT</th>\n",
       "      <th>Q6</th>\n",
       "      <th>Q7</th>\n",
       "      <th>...</th>\n",
       "      <th>Q34_Part_4</th>\n",
       "      <th>Q34_Part_5</th>\n",
       "      <th>Q34_Part_6</th>\n",
       "      <th>Q34_Part_7</th>\n",
       "      <th>Q34_Part_8</th>\n",
       "      <th>Q34_Part_9</th>\n",
       "      <th>Q34_Part_10</th>\n",
       "      <th>Q34_Part_11</th>\n",
       "      <th>Q34_Part_12</th>\n",
       "      <th>Q34_OTHER_TEXT</th>\n",
       "    </tr>\n",
       "  </thead>\n",
       "  <tbody>\n",
       "    <tr>\n",
       "      <th>0</th>\n",
       "      <td>Duration (in seconds)</td>\n",
       "      <td>What is your age (# years)?</td>\n",
       "      <td>What is your gender? - Selected Choice</td>\n",
       "      <td>What is your gender? - Prefer to self-describe...</td>\n",
       "      <td>In which country do you currently reside?</td>\n",
       "      <td>What is the highest level of formal education ...</td>\n",
       "      <td>Select the title most similar to your current ...</td>\n",
       "      <td>Select the title most similar to your current ...</td>\n",
       "      <td>What is the size of the company where you are ...</td>\n",
       "      <td>Approximately how many individuals are respons...</td>\n",
       "      <td>...</td>\n",
       "      <td>Which of the following relational database pro...</td>\n",
       "      <td>Which of the following relational database pro...</td>\n",
       "      <td>Which of the following relational database pro...</td>\n",
       "      <td>Which of the following relational database pro...</td>\n",
       "      <td>Which of the following relational database pro...</td>\n",
       "      <td>Which of the following relational database pro...</td>\n",
       "      <td>Which of the following relational database pro...</td>\n",
       "      <td>Which of the following relational database pro...</td>\n",
       "      <td>Which of the following relational database pro...</td>\n",
       "      <td>Which of the following relational database pro...</td>\n",
       "    </tr>\n",
       "    <tr>\n",
       "      <th>1</th>\n",
       "      <td>510</td>\n",
       "      <td>22-24</td>\n",
       "      <td>Male</td>\n",
       "      <td>-1</td>\n",
       "      <td>France</td>\n",
       "      <td>Master’s degree</td>\n",
       "      <td>Software Engineer</td>\n",
       "      <td>-1</td>\n",
       "      <td>1000-9,999 employees</td>\n",
       "      <td>0</td>\n",
       "      <td>...</td>\n",
       "      <td>NaN</td>\n",
       "      <td>NaN</td>\n",
       "      <td>NaN</td>\n",
       "      <td>NaN</td>\n",
       "      <td>NaN</td>\n",
       "      <td>NaN</td>\n",
       "      <td>NaN</td>\n",
       "      <td>NaN</td>\n",
       "      <td>NaN</td>\n",
       "      <td>-1</td>\n",
       "    </tr>\n",
       "  </tbody>\n",
       "</table>\n",
       "<p>2 rows × 246 columns</p>\n",
       "</div>"
      ],
      "text/plain": [
       "  Time from Start to Finish (seconds)                           Q1  \\\n",
       "0               Duration (in seconds)  What is your age (# years)?   \n",
       "1                                 510                        22-24   \n",
       "\n",
       "                                       Q2  \\\n",
       "0  What is your gender? - Selected Choice   \n",
       "1                                    Male   \n",
       "\n",
       "                                       Q2_OTHER_TEXT  \\\n",
       "0  What is your gender? - Prefer to self-describe...   \n",
       "1                                                 -1   \n",
       "\n",
       "                                          Q3  \\\n",
       "0  In which country do you currently reside?   \n",
       "1                                     France   \n",
       "\n",
       "                                                  Q4  \\\n",
       "0  What is the highest level of formal education ...   \n",
       "1                                    Master’s degree   \n",
       "\n",
       "                                                  Q5  \\\n",
       "0  Select the title most similar to your current ...   \n",
       "1                                  Software Engineer   \n",
       "\n",
       "                                       Q5_OTHER_TEXT  \\\n",
       "0  Select the title most similar to your current ...   \n",
       "1                                                 -1   \n",
       "\n",
       "                                                  Q6  \\\n",
       "0  What is the size of the company where you are ...   \n",
       "1                               1000-9,999 employees   \n",
       "\n",
       "                                                  Q7  ...  \\\n",
       "0  Approximately how many individuals are respons...  ...   \n",
       "1                                                  0  ...   \n",
       "\n",
       "                                          Q34_Part_4  \\\n",
       "0  Which of the following relational database pro...   \n",
       "1                                                NaN   \n",
       "\n",
       "                                          Q34_Part_5  \\\n",
       "0  Which of the following relational database pro...   \n",
       "1                                                NaN   \n",
       "\n",
       "                                          Q34_Part_6  \\\n",
       "0  Which of the following relational database pro...   \n",
       "1                                                NaN   \n",
       "\n",
       "                                          Q34_Part_7  \\\n",
       "0  Which of the following relational database pro...   \n",
       "1                                                NaN   \n",
       "\n",
       "                                          Q34_Part_8  \\\n",
       "0  Which of the following relational database pro...   \n",
       "1                                                NaN   \n",
       "\n",
       "                                          Q34_Part_9  \\\n",
       "0  Which of the following relational database pro...   \n",
       "1                                                NaN   \n",
       "\n",
       "                                         Q34_Part_10  \\\n",
       "0  Which of the following relational database pro...   \n",
       "1                                                NaN   \n",
       "\n",
       "                                         Q34_Part_11  \\\n",
       "0  Which of the following relational database pro...   \n",
       "1                                                NaN   \n",
       "\n",
       "                                         Q34_Part_12  \\\n",
       "0  Which of the following relational database pro...   \n",
       "1                                                NaN   \n",
       "\n",
       "                                      Q34_OTHER_TEXT  \n",
       "0  Which of the following relational database pro...  \n",
       "1                                                 -1  \n",
       "\n",
       "[2 rows x 246 columns]"
      ]
     },
     "execution_count": 2,
     "metadata": {},
     "output_type": "execute_result"
    }
   ],
   "source": [
    "data = pd.read_csv('/Users/pguisordi/python_projects/trybe_test/kaggle_survey_2019/multiple_choice_responses.csv',\n",
    "                   encoding='utf8', low_memory=False)\n",
    "data.head(2)"
   ]
  },
  {
   "cell_type": "code",
   "execution_count": 3,
   "metadata": {},
   "outputs": [
    {
     "name": "stdout",
     "output_type": "stream",
     "text": [
      "<class 'pandas.core.frame.DataFrame'>\n",
      "RangeIndex: 19718 entries, 0 to 19717\n",
      "Columns: 246 entries, Time from Start to Finish (seconds) to Q34_OTHER_TEXT\n",
      "dtypes: object(246)\n",
      "memory usage: 37.0+ MB\n"
     ]
    }
   ],
   "source": [
    "# Checking kind of data we have\n",
    "data.info()"
   ]
  },
  {
   "cell_type": "markdown",
   "metadata": {},
   "source": [
    "### Checking Gender Answers ###"
   ]
  },
  {
   "cell_type": "code",
   "execution_count": 4,
   "metadata": {
    "scrolled": true
   },
   "outputs": [
    {
     "data": {
      "image/png": "[encoded data removed]"
     },
     "metadata": {},
     "output_type": "display_data"
    }
   ],
   "source": [
    "gender=data['Q2'][1:].value_counts().reset_index()\n",
    "gender.rename(columns={\"index\": \"sex\", \"Q2\": \"total_responses\"}, inplace = True)\n",
    "gender['total per %'] = np.around(((gender['total_responses']/gender.total_responses.sum())*100), decimals =2)\n",
    "fig = go.Figure([go.Bar(x= gender.sex, \n",
    "                        y=gender['total per %'],\n",
    "                       marker = dict(\n",
    "                         color='#0fa36b'))])\n",
    "fig.update_layout(autosize=False,\n",
    "                    width=600,\n",
    "                    height=500,\n",
    "                    title=\" Total de Respostas por gênero (Global)\",\n",
    "                 yaxis_title='% respostas',\n",
    "                  xaxis_title='gênero')\n",
    "py.offline.iplot(fig, filename='horizontal-bar')"
   ]
  },
  {
   "cell_type": "code",
   "execution_count": 5,
   "metadata": {},
   "outputs": [
    {
     "data": {
      "image/png": "[encoded data removed]"
     },
     "metadata": {},
     "output_type": "display_data"
    }
   ],
   "source": [
    "age = data['Q1'][1:].value_counts().reset_index().sort_values(by = 'index')\n",
    "age.rename(columns={\"index\": \"age\", \"Q1\": \"total_reponses\"}, inplace = True)\n",
    "age['total per %'] = np.around(((age['total_reponses']/age.total_reponses.sum())*100), decimals =2)\n",
    "fig = go.Figure([go.Bar(x= age.age, \n",
    "                        y=age['total per %'],\n",
    "                       marker = dict(\n",
    "                         color='#0fa36b'))])\n",
    "fig.update_layout(title=\" Total de Respostas por Idade (Global)\",\n",
    "                 yaxis_title='% respostas',\n",
    "                  xaxis_title='Faixa Etária')\n",
    "py.offline.iplot(fig, filename='horizontal-bar')"
   ]
  },
  {
   "cell_type": "code",
   "execution_count": 6,
   "metadata": {},
   "outputs": [
    {
     "data": {
      "text/plain": [
       "59"
      ]
     },
     "execution_count": 6,
     "metadata": {},
     "output_type": "execute_result"
    }
   ],
   "source": [
    "# how many countries we have ?\n",
    "data['Q3'][1:].nunique()"
   ]
  },
  {
   "cell_type": "code",
   "execution_count": 7,
   "metadata": {
    "scrolled": true
   },
   "outputs": [
    {
     "data": {
      "image/png": "[encoded data removed]"
     },
     "metadata": {},
     "output_type": "display_data"
    }
   ],
   "source": [
    "countries= data['Q3'][1:].value_counts().reset_index()\n",
    "countries.rename(columns={\"index\": \"country\", \"Q3\": \"total_responses\"}, inplace = True)\n",
    "countries = countries.replace('United Kingdom of Great Britain and Northern Ireland', 'UK and Northern Ireland')\n",
    "countries['total per %'] = np.around(((countries['total_responses']/countries.total_responses.sum())*100), decimals =2)\n",
    "\n",
    "fig = px.choropleth(countries['total_responses'], locations= countries.country,\n",
    "                    locationmode='country names',\n",
    "                    color=countries['total_responses'],\n",
    "                    color_continuous_scale=px.colors.sequential.algae)\n",
    "fig.update_layout(title=\"Distribuição de Respostas por país\")\n",
    "py.offline.iplot(fig, filename='horizontal-bar')"
   ]
  },
  {
   "cell_type": "code",
   "execution_count": 8,
   "metadata": {
    "scrolled": false
   },
   "outputs": [
    {
     "data": {
      "text/plain": [
       "country            Brazil\n",
       "total_responses       728\n",
       "total per %          3.69\n",
       "Name: 3, dtype: object"
      ]
     },
     "execution_count": 8,
     "metadata": {},
     "output_type": "execute_result"
    }
   ],
   "source": [
    "countries.loc[3]"
   ]
  },
  {
   "cell_type": "code",
   "execution_count": 9,
   "metadata": {},
   "outputs": [
    {
     "data": {
      "image/png": "[encoded data removed]"
     },
     "metadata": {},
     "output_type": "display_data"
    }
   ],
   "source": [
    "countries[['country', 'total per %']][0:10]\n",
    "fig = go.Figure([go.Bar(x= countries.country[0:10], \n",
    "                        y=countries['total per %'][0:10],\n",
    "                       marker = dict(\n",
    "                         color='#0fa36b'))])\n",
    "fig.update_layout(title= \"Top 10 Countries responses\",\n",
    "                 yaxis_title='% respostas',\n",
    "                 xaxis_title='países')\n",
    "py.offline.iplot(fig, filename='horizontal-bar')"
   ]
  },
  {
   "cell_type": "markdown",
   "metadata": {},
   "source": [
    "Brazil answers are: 3.69% (4th in the rank - where we have Other)"
   ]
  },
  {
   "cell_type": "code",
   "execution_count": 10,
   "metadata": {
    "scrolled": true
   },
   "outputs": [
    {
     "data": {
      "text/html": [
       "<div>\n",
       "<style scoped>\n",
       "    .dataframe tbody tr th:only-of-type {\n",
       "        vertical-align: middle;\n",
       "    }\n",
       "\n",
       "    .dataframe tbody tr th {\n",
       "        vertical-align: top;\n",
       "    }\n",
       "\n",
       "    .dataframe thead th {\n",
       "        text-align: right;\n",
       "    }\n",
       "</style>\n",
       "<table border=\"1\" class=\"dataframe\">\n",
       "  <thead>\n",
       "    <tr style=\"text-align: right;\">\n",
       "      <th></th>\n",
       "      <th>country</th>\n",
       "      <th>total_responses</th>\n",
       "      <th>total per %</th>\n",
       "    </tr>\n",
       "  </thead>\n",
       "  <tbody>\n",
       "    <tr>\n",
       "      <th>0</th>\n",
       "      <td>India</td>\n",
       "      <td>4786</td>\n",
       "      <td>25.64</td>\n",
       "    </tr>\n",
       "    <tr>\n",
       "      <th>1</th>\n",
       "      <td>United States of America</td>\n",
       "      <td>3085</td>\n",
       "      <td>16.53</td>\n",
       "    </tr>\n",
       "    <tr>\n",
       "      <th>2</th>\n",
       "      <td>Brazil</td>\n",
       "      <td>728</td>\n",
       "      <td>3.90</td>\n",
       "    </tr>\n",
       "    <tr>\n",
       "      <th>3</th>\n",
       "      <td>Japan</td>\n",
       "      <td>673</td>\n",
       "      <td>3.61</td>\n",
       "    </tr>\n",
       "    <tr>\n",
       "      <th>4</th>\n",
       "      <td>Russia</td>\n",
       "      <td>626</td>\n",
       "      <td>3.35</td>\n",
       "    </tr>\n",
       "  </tbody>\n",
       "</table>\n",
       "</div>"
      ],
      "text/plain": [
       "                    country  total_responses  total per %\n",
       "0                     India             4786        25.64\n",
       "1  United States of America             3085        16.53\n",
       "2                    Brazil              728         3.90\n",
       "3                     Japan              673         3.61\n",
       "4                    Russia              626         3.35"
      ]
     },
     "execution_count": 10,
     "metadata": {},
     "output_type": "execute_result"
    }
   ],
   "source": [
    "countries_without_other = data['Q3'][1:].loc[data['Q3'] != \"Other\"].value_counts().reset_index()\n",
    "countries_without_other.rename(columns={'index': 'country', 'Q3':'total_responses'}, inplace = True)\n",
    "countries_without_other['total per %'] = np.around(\n",
    "                                        ((countries_without_other['total_responses']/countries_without_other.total_responses.sum()\n",
    "                                         )*100), decimals=2)\n",
    "countries_without_other.head(5)"
   ]
  },
  {
   "cell_type": "markdown",
   "metadata": {},
   "source": [
    "quando tiramos o outros temos um aumento de 3.69 para 4% de respostas no conjunto de dados"
   ]
  },
  {
   "cell_type": "code",
   "execution_count": 11,
   "metadata": {},
   "outputs": [
    {
     "data": {
      "image/png": "[encoded data removed]"
     },
     "metadata": {},
     "output_type": "display_data"
    }
   ],
   "source": [
    "fig = go.Figure([go.Bar(x= countries_without_other['country'][0:5], \n",
    "                        y=countries_without_other['total per %'][0:5],\n",
    "                       marker = dict(\n",
    "                         color='#0fa36b'))])\n",
    "fig.update_layout(title= \"Top 5 resposta por país (sem  outros países)\",\n",
    "                     yaxis_title='% respostas',\n",
    "                     xaxis_title='países')\n",
    "py.offline.iplot(fig, filename='horizontal-bar')"
   ]
  },
  {
   "cell_type": "markdown",
   "metadata": {},
   "source": [
    "We are interested to know more about Brazilian who answered this survey.</p>\n",
    "**Remember:** people who answered this survey lives in Brazil (we are assume they are Brazillian)"
   ]
  },
  {
   "cell_type": "markdown",
   "metadata": {},
   "source": [
    "### Age ###"
   ]
  },
  {
   "cell_type": "code",
   "execution_count": 12,
   "metadata": {},
   "outputs": [],
   "source": [
    "brazil_answers = data.loc[data['Q3'] == 'Brazil']"
   ]
  },
  {
   "cell_type": "code",
   "execution_count": 13,
   "metadata": {
    "scrolled": true
   },
   "outputs": [
    {
     "data": {
      "text/html": [
       "<div>\n",
       "<style scoped>\n",
       "    .dataframe tbody tr th:only-of-type {\n",
       "        vertical-align: middle;\n",
       "    }\n",
       "\n",
       "    .dataframe tbody tr th {\n",
       "        vertical-align: top;\n",
       "    }\n",
       "\n",
       "    .dataframe thead th {\n",
       "        text-align: right;\n",
       "    }\n",
       "</style>\n",
       "<table border=\"1\" class=\"dataframe\">\n",
       "  <thead>\n",
       "    <tr style=\"text-align: right;\">\n",
       "      <th></th>\n",
       "      <th>age</th>\n",
       "      <th>total_responses</th>\n",
       "      <th>Total per %</th>\n",
       "    </tr>\n",
       "  </thead>\n",
       "  <tbody>\n",
       "    <tr>\n",
       "      <th>0</th>\n",
       "      <td>18-21</td>\n",
       "      <td>43</td>\n",
       "      <td>5.91</td>\n",
       "    </tr>\n",
       "    <tr>\n",
       "      <th>1</th>\n",
       "      <td>22-24</td>\n",
       "      <td>82</td>\n",
       "      <td>11.26</td>\n",
       "    </tr>\n",
       "    <tr>\n",
       "      <th>2</th>\n",
       "      <td>25-29</td>\n",
       "      <td>181</td>\n",
       "      <td>24.86</td>\n",
       "    </tr>\n",
       "    <tr>\n",
       "      <th>3</th>\n",
       "      <td>30-34</td>\n",
       "      <td>137</td>\n",
       "      <td>18.82</td>\n",
       "    </tr>\n",
       "    <tr>\n",
       "      <th>4</th>\n",
       "      <td>35-39</td>\n",
       "      <td>101</td>\n",
       "      <td>13.87</td>\n",
       "    </tr>\n",
       "    <tr>\n",
       "      <th>5</th>\n",
       "      <td>40-44</td>\n",
       "      <td>78</td>\n",
       "      <td>10.71</td>\n",
       "    </tr>\n",
       "    <tr>\n",
       "      <th>6</th>\n",
       "      <td>45-49</td>\n",
       "      <td>40</td>\n",
       "      <td>5.49</td>\n",
       "    </tr>\n",
       "    <tr>\n",
       "      <th>7</th>\n",
       "      <td>50-54</td>\n",
       "      <td>30</td>\n",
       "      <td>4.12</td>\n",
       "    </tr>\n",
       "    <tr>\n",
       "      <th>8</th>\n",
       "      <td>55-59</td>\n",
       "      <td>18</td>\n",
       "      <td>2.47</td>\n",
       "    </tr>\n",
       "    <tr>\n",
       "      <th>9</th>\n",
       "      <td>60-69</td>\n",
       "      <td>15</td>\n",
       "      <td>2.06</td>\n",
       "    </tr>\n",
       "    <tr>\n",
       "      <th>10</th>\n",
       "      <td>70+</td>\n",
       "      <td>3</td>\n",
       "      <td>0.41</td>\n",
       "    </tr>\n",
       "  </tbody>\n",
       "</table>\n",
       "</div>"
      ],
      "text/plain": [
       "      age  total_responses  Total per %\n",
       "0   18-21               43         5.91\n",
       "1   22-24               82        11.26\n",
       "2   25-29              181        24.86\n",
       "3   30-34              137        18.82\n",
       "4   35-39              101        13.87\n",
       "5   40-44               78        10.71\n",
       "6   45-49               40         5.49\n",
       "7   50-54               30         4.12\n",
       "8   55-59               18         2.47\n",
       "9   60-69               15         2.06\n",
       "10    70+                3         0.41"
      ]
     },
     "execution_count": 13,
     "metadata": {},
     "output_type": "execute_result"
    }
   ],
   "source": [
    "brazil_age = brazil_answers.Q1.value_counts(dropna=False).reset_index().rename(columns={'index':'age',\n",
    "                                                              'Q1': 'total_responses'}).sort_values(by='age')\n",
    "brazil_age['Total per %'] =  np.around(\n",
    "                                        ((brazil_age['total_responses']/brazil_age.total_responses.sum()\n",
    "                                         )*100), decimals = 2)\n",
    "brazil_age = brazil_age.sort_values(by = 'age').reset_index(drop=True)\n",
    "brazil_age"
   ]
  },
  {
   "cell_type": "code",
   "execution_count": 14,
   "metadata": {},
   "outputs": [
    {
     "data": {
      "text/plain": [
       "60.85"
      ]
     },
     "execution_count": 14,
     "metadata": {},
     "output_type": "execute_result"
    }
   ],
   "source": [
    "brazil_age['Total per %'][0:4].sum()"
   ]
  },
  {
   "cell_type": "markdown",
   "metadata": {},
   "source": [
    "More than 60% of people who answered the survey are between 18 - 34 years old. </p>\n",
    "Interesting to note that people are between 18-21 years old are 5.91% \n",
    "\n",
    "Checking with businnes area our students / candidates years old"
   ]
  },
  {
   "cell_type": "code",
   "execution_count": 15,
   "metadata": {},
   "outputs": [
    {
     "data": {
      "image/png": "[encoded data removed]"
     },
     "metadata": {},
     "output_type": "display_data"
    }
   ],
   "source": [
    "fig = go.Figure([go.Bar(x= brazil_age['age'], \n",
    "                        y=brazil_age['Total per %'],\n",
    "                       marker = dict(\n",
    "                         color='#0fa36b'))])\n",
    "fig.update_layout(title= \"Brazil Faixas Etária\",\n",
    "                 yaxis_title='% respostas',\n",
    "                xaxis_title='faixa etária')\n",
    "py.offline.iplot(fig, filename='horizontal-bar')"
   ]
  },
  {
   "cell_type": "markdown",
   "metadata": {},
   "source": [
    "### Formal Education ###"
   ]
  },
  {
   "cell_type": "code",
   "execution_count": 16,
   "metadata": {},
   "outputs": [],
   "source": [
    "brazil_formal_education = brazil_answers[['Q1', 'Q4']]\n",
    "brazil_formal_education.rename(columns={'Q1': 'age',\n",
    "                                       'Q4': 'educational_level'},inplace = True)"
   ]
  },
  {
   "cell_type": "markdown",
   "metadata": {},
   "source": [
    "We aggregate the categories: </p>\n",
    "* Bachelor's degree\n",
    "* Professional degree\n",
    "* Some college/university study without earning bachelor's degree \n",
    "\n",
    "In a unique category : higher education level - people who continues their studings before High School"
   ]
  },
  {
   "cell_type": "code",
   "execution_count": 17,
   "metadata": {},
   "outputs": [
    {
     "data": {
      "text/plain": [
       "array(['Bachelor’s degree', 'Master’s degree', 'Professional degree',\n",
       "       'Doctoral degree', 'No formal education past high school',\n",
       "       'I prefer not to answer',\n",
       "       'Some college/university study without earning a bachelor’s degree',\n",
       "       nan], dtype=object)"
      ]
     },
     "execution_count": 17,
     "metadata": {},
     "output_type": "execute_result"
    }
   ],
   "source": [
    "brazil_formal_education['educational_level'].unique()"
   ]
  },
  {
   "cell_type": "code",
   "execution_count": 18,
   "metadata": {},
   "outputs": [],
   "source": [
    "list_education=[]\n",
    "for level in brazil_formal_education['educational_level']:\n",
    "    if level in ['Professional degree']:\n",
    "        list_education.append('Bachelor’s degree')\n",
    "    elif level in ['Some college/university study without earning a bachelor’s degree']:\n",
    "        list_education.append('Bachelor’s degree')    \n",
    "    else :\n",
    "        list_education.append(level)\n",
    "brazil_formal_education['educational_level'] = list_education"
   ]
  },
  {
   "cell_type": "code",
   "execution_count": 19,
   "metadata": {},
   "outputs": [
    {
     "data": {
      "text/html": [
       "<div>\n",
       "<style scoped>\n",
       "    .dataframe tbody tr th:only-of-type {\n",
       "        vertical-align: middle;\n",
       "    }\n",
       "\n",
       "    .dataframe tbody tr th {\n",
       "        vertical-align: top;\n",
       "    }\n",
       "\n",
       "    .dataframe thead th {\n",
       "        text-align: right;\n",
       "    }\n",
       "</style>\n",
       "<table border=\"1\" class=\"dataframe\">\n",
       "  <thead>\n",
       "    <tr style=\"text-align: right;\">\n",
       "      <th></th>\n",
       "      <th>educational_level</th>\n",
       "      <th>total_responses</th>\n",
       "      <th>total per %</th>\n",
       "    </tr>\n",
       "  </thead>\n",
       "  <tbody>\n",
       "    <tr>\n",
       "      <th>0</th>\n",
       "      <td>Bachelor’s degree</td>\n",
       "      <td>318</td>\n",
       "      <td>43.68</td>\n",
       "    </tr>\n",
       "    <tr>\n",
       "      <th>1</th>\n",
       "      <td>Master’s degree</td>\n",
       "      <td>283</td>\n",
       "      <td>38.87</td>\n",
       "    </tr>\n",
       "    <tr>\n",
       "      <th>2</th>\n",
       "      <td>Doctoral degree</td>\n",
       "      <td>98</td>\n",
       "      <td>13.46</td>\n",
       "    </tr>\n",
       "    <tr>\n",
       "      <th>3</th>\n",
       "      <td>NaN</td>\n",
       "      <td>13</td>\n",
       "      <td>1.79</td>\n",
       "    </tr>\n",
       "    <tr>\n",
       "      <th>4</th>\n",
       "      <td>I prefer not to answer</td>\n",
       "      <td>9</td>\n",
       "      <td>1.24</td>\n",
       "    </tr>\n",
       "    <tr>\n",
       "      <th>5</th>\n",
       "      <td>No formal education past high school</td>\n",
       "      <td>7</td>\n",
       "      <td>0.96</td>\n",
       "    </tr>\n",
       "  </tbody>\n",
       "</table>\n",
       "</div>"
      ],
      "text/plain": [
       "                      educational_level  total_responses  total per %\n",
       "0                     Bachelor’s degree              318        43.68\n",
       "1                       Master’s degree              283        38.87\n",
       "2                       Doctoral degree               98        13.46\n",
       "3                                   NaN               13         1.79\n",
       "4                I prefer not to answer                9         1.24\n",
       "5  No formal education past high school                7         0.96"
      ]
     },
     "execution_count": 19,
     "metadata": {},
     "output_type": "execute_result"
    }
   ],
   "source": [
    "br_education_agg = brazil_formal_education.educational_level.value_counts(dropna=False).reset_index().rename(\n",
    "                    columns={'index':'educational_level',\n",
    "                             'educational_level': 'total_responses'})\n",
    "br_education_agg['total per %'] = np.round((br_education_agg['total_responses'] / \n",
    "                                           br_education_agg['total_responses'].sum())*100, decimals=2)\n",
    "br_education_agg = br_education_agg.reset_index(drop = True)\n",
    "br_education_agg"
   ]
  },
  {
   "cell_type": "code",
   "execution_count": 20,
   "metadata": {},
   "outputs": [
    {
     "data": {
      "text/plain": [
       "52.33"
      ]
     },
     "execution_count": 20,
     "metadata": {},
     "output_type": "execute_result"
    }
   ],
   "source": [
    "# Master + Doctoral\n",
    "38.87+13.46"
   ]
  },
  {
   "cell_type": "markdown",
   "metadata": {},
   "source": [
    "We can notice the number of people who has Master's degree and uses Kaggle (assumption) is high in Brazil. \n",
    "\n",
    "Only 0.8% of Brazilians has Master's Degree, and a lower percentual (0,2% has Doctoral degree) in 2019, (https://www1.folha.uol.com.br/educacao/2019/09/acesso-a-mestrado-no-brasil-e-16-vezes-menor-do-que-em-paises-ricos.shtml)\n",
    "\n",
    "People who answered the survey and has Master or Doctoral as last educational level is 52.33%"
   ]
  },
  {
   "cell_type": "markdown",
   "metadata": {},
   "source": [
    "13 people who live in Brazil did not answer the question, we assume they did not prefer to answer and adding they in the option \"I prefer not answer\""
   ]
  },
  {
   "cell_type": "code",
   "execution_count": 21,
   "metadata": {},
   "outputs": [
    {
     "data": {
      "text/html": [
       "<div>\n",
       "<style scoped>\n",
       "    .dataframe tbody tr th:only-of-type {\n",
       "        vertical-align: middle;\n",
       "    }\n",
       "\n",
       "    .dataframe tbody tr th {\n",
       "        vertical-align: top;\n",
       "    }\n",
       "\n",
       "    .dataframe thead th {\n",
       "        text-align: right;\n",
       "    }\n",
       "</style>\n",
       "<table border=\"1\" class=\"dataframe\">\n",
       "  <thead>\n",
       "    <tr style=\"text-align: right;\">\n",
       "      <th></th>\n",
       "      <th>educational_level</th>\n",
       "      <th>total_responses</th>\n",
       "      <th>total per %</th>\n",
       "    </tr>\n",
       "  </thead>\n",
       "  <tbody>\n",
       "    <tr>\n",
       "      <th>0</th>\n",
       "      <td>Bachelor’s degree</td>\n",
       "      <td>318</td>\n",
       "      <td>43.68</td>\n",
       "    </tr>\n",
       "    <tr>\n",
       "      <th>1</th>\n",
       "      <td>Master’s degree</td>\n",
       "      <td>283</td>\n",
       "      <td>38.87</td>\n",
       "    </tr>\n",
       "    <tr>\n",
       "      <th>2</th>\n",
       "      <td>Doctoral degree</td>\n",
       "      <td>98</td>\n",
       "      <td>13.46</td>\n",
       "    </tr>\n",
       "    <tr>\n",
       "      <th>4</th>\n",
       "      <td>I prefer not to answer</td>\n",
       "      <td>22</td>\n",
       "      <td>3.02</td>\n",
       "    </tr>\n",
       "    <tr>\n",
       "      <th>5</th>\n",
       "      <td>No formal education past high school</td>\n",
       "      <td>7</td>\n",
       "      <td>0.96</td>\n",
       "    </tr>\n",
       "  </tbody>\n",
       "</table>\n",
       "</div>"
      ],
      "text/plain": [
       "                      educational_level  total_responses  total per %\n",
       "0                     Bachelor’s degree              318        43.68\n",
       "1                       Master’s degree              283        38.87\n",
       "2                       Doctoral degree               98        13.46\n",
       "4                I prefer not to answer               22         3.02\n",
       "5  No formal education past high school                7         0.96"
      ]
     },
     "execution_count": 21,
     "metadata": {},
     "output_type": "execute_result"
    }
   ],
   "source": [
    "#adjusting NaN answers\n",
    "sum_3_4 = br_education_agg['total_responses'][3]+br_education_agg['total_responses'][4]\n",
    "br_education_agg['total_responses'][4] = sum_3_4 #22 answers\n",
    "br_education_agg = br_education_agg.dropna()\n",
    "br_education_agg['total per %'] = np.around(\n",
    "                                        ((br_education_agg['total_responses']/br_education_agg.total_responses.sum()\n",
    "                                         )*100), decimals = 2)\n",
    "br_education_agg"
   ]
  },
  {
   "cell_type": "code",
   "execution_count": 22,
   "metadata": {},
   "outputs": [
    {
     "data": {
      "image/png": "[encoded data removed]"
     },
     "metadata": {},
     "output_type": "display_data"
    }
   ],
   "source": [
    "fig = go.Figure([go.Bar(x= br_education_agg['educational_level'], \n",
    "                        y=br_education_agg['total per %'],\n",
    "                       marker = dict(\n",
    "                         color='#0fa36b'))])\n",
    "fig.update_layout(title= \"Nível Educacional Brasil\",\n",
    "                 yaxis_title='% respostas')\n",
    "py.offline.iplot(fig, filename='horizontal-bar')"
   ]
  },
  {
   "cell_type": "code",
   "execution_count": 23,
   "metadata": {},
   "outputs": [
    {
     "data": {
      "text/plain": [
       "0.8571428571428571"
      ]
     },
     "execution_count": 23,
     "metadata": {},
     "output_type": "execute_result"
    }
   ],
   "source": [
    "36/42"
   ]
  },
  {
   "cell_type": "code",
   "execution_count": 24,
   "metadata": {},
   "outputs": [
    {
     "data": {
      "text/html": [
       "<div>\n",
       "<style scoped>\n",
       "    .dataframe tbody tr th:only-of-type {\n",
       "        vertical-align: middle;\n",
       "    }\n",
       "\n",
       "    .dataframe tbody tr th {\n",
       "        vertical-align: top;\n",
       "    }\n",
       "\n",
       "    .dataframe thead th {\n",
       "        text-align: right;\n",
       "    }\n",
       "</style>\n",
       "<table border=\"1\" class=\"dataframe\">\n",
       "  <thead>\n",
       "    <tr style=\"text-align: right;\">\n",
       "      <th>age</th>\n",
       "      <th>18-21</th>\n",
       "      <th>22-24</th>\n",
       "      <th>25-29</th>\n",
       "      <th>30-34</th>\n",
       "      <th>35-39</th>\n",
       "      <th>40-44</th>\n",
       "      <th>45-49</th>\n",
       "      <th>50-54</th>\n",
       "      <th>55-59</th>\n",
       "      <th>60-69</th>\n",
       "      <th>70+</th>\n",
       "    </tr>\n",
       "    <tr>\n",
       "      <th>educational_level</th>\n",
       "      <th></th>\n",
       "      <th></th>\n",
       "      <th></th>\n",
       "      <th></th>\n",
       "      <th></th>\n",
       "      <th></th>\n",
       "      <th></th>\n",
       "      <th></th>\n",
       "      <th></th>\n",
       "      <th></th>\n",
       "      <th></th>\n",
       "    </tr>\n",
       "  </thead>\n",
       "  <tbody>\n",
       "    <tr>\n",
       "      <th>Bachelor’s degree</th>\n",
       "      <td>85.71</td>\n",
       "      <td>62.96</td>\n",
       "      <td>48.59</td>\n",
       "      <td>34.33</td>\n",
       "      <td>37.37</td>\n",
       "      <td>36.36</td>\n",
       "      <td>37.5</td>\n",
       "      <td>20.69</td>\n",
       "      <td>44.44</td>\n",
       "      <td>26.67</td>\n",
       "      <td>33.33</td>\n",
       "    </tr>\n",
       "    <tr>\n",
       "      <th>Doctoral degree</th>\n",
       "      <td>0.00</td>\n",
       "      <td>2.47</td>\n",
       "      <td>7.34</td>\n",
       "      <td>20.15</td>\n",
       "      <td>14.14</td>\n",
       "      <td>18.18</td>\n",
       "      <td>25.0</td>\n",
       "      <td>17.24</td>\n",
       "      <td>27.78</td>\n",
       "      <td>46.67</td>\n",
       "      <td>33.33</td>\n",
       "    </tr>\n",
       "    <tr>\n",
       "      <th>I prefer not to answer</th>\n",
       "      <td>0.00</td>\n",
       "      <td>2.47</td>\n",
       "      <td>0.56</td>\n",
       "      <td>1.49</td>\n",
       "      <td>1.01</td>\n",
       "      <td>1.30</td>\n",
       "      <td>2.5</td>\n",
       "      <td>3.45</td>\n",
       "      <td>0.00</td>\n",
       "      <td>0.00</td>\n",
       "      <td>0.00</td>\n",
       "    </tr>\n",
       "    <tr>\n",
       "      <th>Master’s degree</th>\n",
       "      <td>11.90</td>\n",
       "      <td>32.10</td>\n",
       "      <td>43.50</td>\n",
       "      <td>43.28</td>\n",
       "      <td>47.47</td>\n",
       "      <td>42.86</td>\n",
       "      <td>30.0</td>\n",
       "      <td>51.72</td>\n",
       "      <td>27.78</td>\n",
       "      <td>26.67</td>\n",
       "      <td>33.33</td>\n",
       "    </tr>\n",
       "    <tr>\n",
       "      <th>No formal education past high school</th>\n",
       "      <td>2.38</td>\n",
       "      <td>0.00</td>\n",
       "      <td>0.00</td>\n",
       "      <td>0.75</td>\n",
       "      <td>0.00</td>\n",
       "      <td>1.30</td>\n",
       "      <td>5.0</td>\n",
       "      <td>6.90</td>\n",
       "      <td>0.00</td>\n",
       "      <td>0.00</td>\n",
       "      <td>0.00</td>\n",
       "    </tr>\n",
       "  </tbody>\n",
       "</table>\n",
       "</div>"
      ],
      "text/plain": [
       "age                                   18-21  22-24  25-29  30-34  35-39  \\\n",
       "educational_level                                                         \n",
       "Bachelor’s degree                     85.71  62.96  48.59  34.33  37.37   \n",
       "Doctoral degree                        0.00   2.47   7.34  20.15  14.14   \n",
       "I prefer not to answer                 0.00   2.47   0.56   1.49   1.01   \n",
       "Master’s degree                       11.90  32.10  43.50  43.28  47.47   \n",
       "No formal education past high school   2.38   0.00   0.00   0.75   0.00   \n",
       "\n",
       "age                                   40-44  45-49  50-54  55-59  60-69    70+  \n",
       "educational_level                                                               \n",
       "Bachelor’s degree                     36.36   37.5  20.69  44.44  26.67  33.33  \n",
       "Doctoral degree                       18.18   25.0  17.24  27.78  46.67  33.33  \n",
       "I prefer not to answer                 1.30    2.5   3.45   0.00   0.00   0.00  \n",
       "Master’s degree                       42.86   30.0  51.72  27.78  26.67  33.33  \n",
       "No formal education past high school   1.30    5.0   6.90   0.00   0.00   0.00  "
      ]
     },
     "execution_count": 24,
     "metadata": {},
     "output_type": "execute_result"
    }
   ],
   "source": [
    "#checking distribution of age per educational level\n",
    "br_age_educ = pd.crosstab(brazil_formal_education['educational_level'], brazil_formal_education['age']).apply(\n",
    "                                                        lambda r: np.round((r/r.sum()*100), decimals = 2), axis=0)\n",
    "br_age_educ"
   ]
  },
  {
   "cell_type": "code",
   "execution_count": 25,
   "metadata": {},
   "outputs": [
    {
     "data": {
      "text/plain": [
       "85.71"
      ]
     },
     "execution_count": 25,
     "metadata": {},
     "output_type": "execute_result"
    }
   ],
   "source": [
    "br_age_educ.iloc[0, 0:].max()"
   ]
  },
  {
   "cell_type": "code",
   "execution_count": 26,
   "metadata": {},
   "outputs": [
    {
     "name": "stdout",
     "output_type": "stream",
     "text": [
      "<class 'pandas.core.frame.DataFrame'>\n",
      "Index: 5 entries, Bachelor’s degree to No formal education past high school\n",
      "Data columns (total 11 columns):\n",
      " #   Column  Non-Null Count  Dtype  \n",
      "---  ------  --------------  -----  \n",
      " 0   18-21   5 non-null      float64\n",
      " 1   22-24   5 non-null      float64\n",
      " 2   25-29   5 non-null      float64\n",
      " 3   30-34   5 non-null      float64\n",
      " 4   35-39   5 non-null      float64\n",
      " 5   40-44   5 non-null      float64\n",
      " 6   45-49   5 non-null      float64\n",
      " 7   50-54   5 non-null      float64\n",
      " 8   55-59   5 non-null      float64\n",
      " 9   60-69   5 non-null      float64\n",
      " 10  70+     5 non-null      float64\n",
      "dtypes: float64(11)\n",
      "memory usage: 480.0+ bytes\n"
     ]
    }
   ],
   "source": [
    "br_age_educ.info()"
   ]
  },
  {
   "cell_type": "markdown",
   "metadata": {},
   "source": [
    "### Current Role ### "
   ]
  },
  {
   "cell_type": "code",
   "execution_count": 27,
   "metadata": {},
   "outputs": [
    {
     "data": {
      "text/html": [
       "<div>\n",
       "<style scoped>\n",
       "    .dataframe tbody tr th:only-of-type {\n",
       "        vertical-align: middle;\n",
       "    }\n",
       "\n",
       "    .dataframe tbody tr th {\n",
       "        vertical-align: top;\n",
       "    }\n",
       "\n",
       "    .dataframe thead th {\n",
       "        text-align: right;\n",
       "    }\n",
       "</style>\n",
       "<table border=\"1\" class=\"dataframe\">\n",
       "  <thead>\n",
       "    <tr style=\"text-align: right;\">\n",
       "      <th></th>\n",
       "      <th>current_role</th>\n",
       "      <th>total_responses</th>\n",
       "      <th>total per %</th>\n",
       "    </tr>\n",
       "  </thead>\n",
       "  <tbody>\n",
       "    <tr>\n",
       "      <th>0</th>\n",
       "      <td>Data Scientist</td>\n",
       "      <td>164</td>\n",
       "      <td>22.53</td>\n",
       "    </tr>\n",
       "    <tr>\n",
       "      <th>1</th>\n",
       "      <td>Software Engineer</td>\n",
       "      <td>102</td>\n",
       "      <td>14.01</td>\n",
       "    </tr>\n",
       "    <tr>\n",
       "      <th>2</th>\n",
       "      <td>Student</td>\n",
       "      <td>97</td>\n",
       "      <td>13.32</td>\n",
       "    </tr>\n",
       "    <tr>\n",
       "      <th>3</th>\n",
       "      <td>Other</td>\n",
       "      <td>70</td>\n",
       "      <td>9.62</td>\n",
       "    </tr>\n",
       "    <tr>\n",
       "      <th>4</th>\n",
       "      <td>Data Analyst</td>\n",
       "      <td>63</td>\n",
       "      <td>8.65</td>\n",
       "    </tr>\n",
       "    <tr>\n",
       "      <th>5</th>\n",
       "      <td>Research Scientist</td>\n",
       "      <td>62</td>\n",
       "      <td>8.52</td>\n",
       "    </tr>\n",
       "    <tr>\n",
       "      <th>6</th>\n",
       "      <td>Business Analyst</td>\n",
       "      <td>48</td>\n",
       "      <td>6.59</td>\n",
       "    </tr>\n",
       "    <tr>\n",
       "      <th>7</th>\n",
       "      <td>Product/Project Manager</td>\n",
       "      <td>29</td>\n",
       "      <td>3.98</td>\n",
       "    </tr>\n",
       "    <tr>\n",
       "      <th>8</th>\n",
       "      <td>Data Engineer</td>\n",
       "      <td>27</td>\n",
       "      <td>3.71</td>\n",
       "    </tr>\n",
       "    <tr>\n",
       "      <th>9</th>\n",
       "      <td>Not employed</td>\n",
       "      <td>25</td>\n",
       "      <td>3.43</td>\n",
       "    </tr>\n",
       "    <tr>\n",
       "      <th>10</th>\n",
       "      <td>Statistician</td>\n",
       "      <td>16</td>\n",
       "      <td>2.20</td>\n",
       "    </tr>\n",
       "    <tr>\n",
       "      <th>11</th>\n",
       "      <td>NaN</td>\n",
       "      <td>16</td>\n",
       "      <td>2.20</td>\n",
       "    </tr>\n",
       "    <tr>\n",
       "      <th>12</th>\n",
       "      <td>DBA/Database Engineer</td>\n",
       "      <td>9</td>\n",
       "      <td>1.24</td>\n",
       "    </tr>\n",
       "  </tbody>\n",
       "</table>\n",
       "</div>"
      ],
      "text/plain": [
       "               current_role  total_responses  total per %\n",
       "0            Data Scientist              164        22.53\n",
       "1         Software Engineer              102        14.01\n",
       "2                   Student               97        13.32\n",
       "3                     Other               70         9.62\n",
       "4              Data Analyst               63         8.65\n",
       "5        Research Scientist               62         8.52\n",
       "6          Business Analyst               48         6.59\n",
       "7   Product/Project Manager               29         3.98\n",
       "8             Data Engineer               27         3.71\n",
       "9              Not employed               25         3.43\n",
       "10             Statistician               16         2.20\n",
       "11                      NaN               16         2.20\n",
       "12    DBA/Database Engineer                9         1.24"
      ]
     },
     "execution_count": 27,
     "metadata": {},
     "output_type": "execute_result"
    }
   ],
   "source": [
    "brazil_role = brazil_answers['Q5'].value_counts(dropna=False).reset_index().rename(columns={'index':'current_role',\n",
    "                                                              'Q5': 'total_responses'})\n",
    "brazil_role['total per %'] = np.around(((brazil_role['total_responses']/brazil_role.total_responses.sum()\n",
    "                                         )*100), decimals = 2)\n",
    "brazil_role"
   ]
  },
  {
   "cell_type": "code",
   "execution_count": 28,
   "metadata": {},
   "outputs": [
    {
     "data": {
      "text/plain": [
       "50.0"
      ]
     },
     "execution_count": 28,
     "metadata": {},
     "output_type": "execute_result"
    }
   ],
   "source": [
    "#checking % of 3 first positions\n",
    "np.round(brazil_role['total per %'][0:3].sum())"
   ]
  },
  {
   "cell_type": "markdown",
   "metadata": {},
   "source": [
    "Around 50% of people who answering this survey in Brazi are DS, SE or Student "
   ]
  },
  {
   "cell_type": "markdown",
   "metadata": {},
   "source": [
    "### Checking Current Role *versus* Formal Education in Brazil"
   ]
  },
  {
   "cell_type": "code",
   "execution_count": 29,
   "metadata": {},
   "outputs": [
    {
     "data": {
      "text/plain": [
       "Q4\n",
       "Bachelor’s degree                                                     1\n",
       "Doctoral degree                                                       1\n",
       "Some college/university study without earning a bachelor’s degree     1\n",
       "no answer                                                            13\n",
       "Name: Q5, dtype: int64"
      ]
     },
     "execution_count": 29,
     "metadata": {},
     "output_type": "execute_result"
    }
   ],
   "source": [
    "# Checking if NaN values when we cross data \n",
    "cross_br_current_educ = brazil_answers[['Q4', 'Q5']].fillna(value = \"no answer\")\n",
    "not_answer_cross = cross_br_current_educ.loc[cross_br_current_educ['Q5'] == 'no answer']\n",
    "not_answer_cross.groupby(['Q4'])['Q5'].count()"
   ]
  },
  {
   "cell_type": "markdown",
   "metadata": {},
   "source": [
    "In our next table without 16 answers (around 2% of the valid answers) - its not so significantly so Ok "
   ]
  },
  {
   "cell_type": "code",
   "execution_count": 30,
   "metadata": {},
   "outputs": [
    {
     "data": {
      "text/html": [
       "<div>\n",
       "<style scoped>\n",
       "    .dataframe tbody tr th:only-of-type {\n",
       "        vertical-align: middle;\n",
       "    }\n",
       "\n",
       "    .dataframe tbody tr th {\n",
       "        vertical-align: top;\n",
       "    }\n",
       "\n",
       "    .dataframe thead th {\n",
       "        text-align: right;\n",
       "    }\n",
       "</style>\n",
       "<table border=\"1\" class=\"dataframe\">\n",
       "  <thead>\n",
       "    <tr style=\"text-align: right;\">\n",
       "      <th>Q5</th>\n",
       "      <th>Business Analyst</th>\n",
       "      <th>DBA/Database Engineer</th>\n",
       "      <th>Data Analyst</th>\n",
       "      <th>Data Engineer</th>\n",
       "      <th>Data Scientist</th>\n",
       "      <th>Not employed</th>\n",
       "      <th>Other</th>\n",
       "      <th>Product/Project Manager</th>\n",
       "      <th>Research Scientist</th>\n",
       "      <th>Software Engineer</th>\n",
       "      <th>Statistician</th>\n",
       "      <th>Student</th>\n",
       "      <th>All</th>\n",
       "    </tr>\n",
       "    <tr>\n",
       "      <th>Q4</th>\n",
       "      <th></th>\n",
       "      <th></th>\n",
       "      <th></th>\n",
       "      <th></th>\n",
       "      <th></th>\n",
       "      <th></th>\n",
       "      <th></th>\n",
       "      <th></th>\n",
       "      <th></th>\n",
       "      <th></th>\n",
       "      <th></th>\n",
       "      <th></th>\n",
       "      <th></th>\n",
       "    </tr>\n",
       "  </thead>\n",
       "  <tbody>\n",
       "    <tr>\n",
       "      <th>Bachelor’s degree</th>\n",
       "      <td>21</td>\n",
       "      <td>2</td>\n",
       "      <td>28</td>\n",
       "      <td>8</td>\n",
       "      <td>44</td>\n",
       "      <td>10</td>\n",
       "      <td>24</td>\n",
       "      <td>7</td>\n",
       "      <td>6</td>\n",
       "      <td>49</td>\n",
       "      <td>5</td>\n",
       "      <td>43</td>\n",
       "      <td>247</td>\n",
       "    </tr>\n",
       "    <tr>\n",
       "      <th>Doctoral degree</th>\n",
       "      <td>5</td>\n",
       "      <td>0</td>\n",
       "      <td>3</td>\n",
       "      <td>3</td>\n",
       "      <td>19</td>\n",
       "      <td>1</td>\n",
       "      <td>14</td>\n",
       "      <td>5</td>\n",
       "      <td>33</td>\n",
       "      <td>2</td>\n",
       "      <td>1</td>\n",
       "      <td>11</td>\n",
       "      <td>97</td>\n",
       "    </tr>\n",
       "    <tr>\n",
       "      <th>I prefer not to answer</th>\n",
       "      <td>0</td>\n",
       "      <td>0</td>\n",
       "      <td>1</td>\n",
       "      <td>0</td>\n",
       "      <td>2</td>\n",
       "      <td>2</td>\n",
       "      <td>2</td>\n",
       "      <td>0</td>\n",
       "      <td>1</td>\n",
       "      <td>1</td>\n",
       "      <td>0</td>\n",
       "      <td>0</td>\n",
       "      <td>9</td>\n",
       "    </tr>\n",
       "    <tr>\n",
       "      <th>Master’s degree</th>\n",
       "      <td>15</td>\n",
       "      <td>4</td>\n",
       "      <td>21</td>\n",
       "      <td>13</td>\n",
       "      <td>89</td>\n",
       "      <td>11</td>\n",
       "      <td>25</td>\n",
       "      <td>13</td>\n",
       "      <td>19</td>\n",
       "      <td>38</td>\n",
       "      <td>9</td>\n",
       "      <td>26</td>\n",
       "      <td>283</td>\n",
       "    </tr>\n",
       "    <tr>\n",
       "      <th>No formal education past high school</th>\n",
       "      <td>1</td>\n",
       "      <td>1</td>\n",
       "      <td>1</td>\n",
       "      <td>0</td>\n",
       "      <td>0</td>\n",
       "      <td>0</td>\n",
       "      <td>0</td>\n",
       "      <td>0</td>\n",
       "      <td>0</td>\n",
       "      <td>1</td>\n",
       "      <td>0</td>\n",
       "      <td>3</td>\n",
       "      <td>7</td>\n",
       "    </tr>\n",
       "    <tr>\n",
       "      <th>Professional degree</th>\n",
       "      <td>2</td>\n",
       "      <td>1</td>\n",
       "      <td>5</td>\n",
       "      <td>3</td>\n",
       "      <td>4</td>\n",
       "      <td>1</td>\n",
       "      <td>2</td>\n",
       "      <td>3</td>\n",
       "      <td>2</td>\n",
       "      <td>7</td>\n",
       "      <td>1</td>\n",
       "      <td>2</td>\n",
       "      <td>33</td>\n",
       "    </tr>\n",
       "    <tr>\n",
       "      <th>Some college/university study without earning a bachelor’s degree</th>\n",
       "      <td>4</td>\n",
       "      <td>1</td>\n",
       "      <td>4</td>\n",
       "      <td>0</td>\n",
       "      <td>6</td>\n",
       "      <td>0</td>\n",
       "      <td>3</td>\n",
       "      <td>1</td>\n",
       "      <td>1</td>\n",
       "      <td>4</td>\n",
       "      <td>0</td>\n",
       "      <td>12</td>\n",
       "      <td>36</td>\n",
       "    </tr>\n",
       "    <tr>\n",
       "      <th>All</th>\n",
       "      <td>48</td>\n",
       "      <td>9</td>\n",
       "      <td>63</td>\n",
       "      <td>27</td>\n",
       "      <td>164</td>\n",
       "      <td>25</td>\n",
       "      <td>70</td>\n",
       "      <td>29</td>\n",
       "      <td>62</td>\n",
       "      <td>102</td>\n",
       "      <td>16</td>\n",
       "      <td>97</td>\n",
       "      <td>712</td>\n",
       "    </tr>\n",
       "  </tbody>\n",
       "</table>\n",
       "</div>"
      ],
      "text/plain": [
       "Q5                                                  Business Analyst  \\\n",
       "Q4                                                                     \n",
       "Bachelor’s degree                                                 21   \n",
       "Doctoral degree                                                    5   \n",
       "I prefer not to answer                                             0   \n",
       "Master’s degree                                                   15   \n",
       "No formal education past high school                               1   \n",
       "Professional degree                                                2   \n",
       "Some college/university study without earning a...                 4   \n",
       "All                                                               48   \n",
       "\n",
       "Q5                                                  DBA/Database Engineer  \\\n",
       "Q4                                                                          \n",
       "Bachelor’s degree                                                       2   \n",
       "Doctoral degree                                                         0   \n",
       "I prefer not to answer                                                  0   \n",
       "Master’s degree                                                         4   \n",
       "No formal education past high school                                    1   \n",
       "Professional degree                                                     1   \n",
       "Some college/university study without earning a...                      1   \n",
       "All                                                                     9   \n",
       "\n",
       "Q5                                                  Data Analyst  \\\n",
       "Q4                                                                 \n",
       "Bachelor’s degree                                             28   \n",
       "Doctoral degree                                                3   \n",
       "I prefer not to answer                                         1   \n",
       "Master’s degree                                               21   \n",
       "No formal education past high school                           1   \n",
       "Professional degree                                            5   \n",
       "Some college/university study without earning a...             4   \n",
       "All                                                           63   \n",
       "\n",
       "Q5                                                  Data Engineer  \\\n",
       "Q4                                                                  \n",
       "Bachelor’s degree                                               8   \n",
       "Doctoral degree                                                 3   \n",
       "I prefer not to answer                                          0   \n",
       "Master’s degree                                                13   \n",
       "No formal education past high school                            0   \n",
       "Professional degree                                             3   \n",
       "Some college/university study without earning a...              0   \n",
       "All                                                            27   \n",
       "\n",
       "Q5                                                  Data Scientist  \\\n",
       "Q4                                                                   \n",
       "Bachelor’s degree                                               44   \n",
       "Doctoral degree                                                 19   \n",
       "I prefer not to answer                                           2   \n",
       "Master’s degree                                                 89   \n",
       "No formal education past high school                             0   \n",
       "Professional degree                                              4   \n",
       "Some college/university study without earning a...               6   \n",
       "All                                                            164   \n",
       "\n",
       "Q5                                                  Not employed  Other  \\\n",
       "Q4                                                                        \n",
       "Bachelor’s degree                                             10     24   \n",
       "Doctoral degree                                                1     14   \n",
       "I prefer not to answer                                         2      2   \n",
       "Master’s degree                                               11     25   \n",
       "No formal education past high school                           0      0   \n",
       "Professional degree                                            1      2   \n",
       "Some college/university study without earning a...             0      3   \n",
       "All                                                           25     70   \n",
       "\n",
       "Q5                                                  Product/Project Manager  \\\n",
       "Q4                                                                            \n",
       "Bachelor’s degree                                                         7   \n",
       "Doctoral degree                                                           5   \n",
       "I prefer not to answer                                                    0   \n",
       "Master’s degree                                                          13   \n",
       "No formal education past high school                                      0   \n",
       "Professional degree                                                       3   \n",
       "Some college/university study without earning a...                        1   \n",
       "All                                                                      29   \n",
       "\n",
       "Q5                                                  Research Scientist  \\\n",
       "Q4                                                                       \n",
       "Bachelor’s degree                                                    6   \n",
       "Doctoral degree                                                     33   \n",
       "I prefer not to answer                                               1   \n",
       "Master’s degree                                                     19   \n",
       "No formal education past high school                                 0   \n",
       "Professional degree                                                  2   \n",
       "Some college/university study without earning a...                   1   \n",
       "All                                                                 62   \n",
       "\n",
       "Q5                                                  Software Engineer  \\\n",
       "Q4                                                                      \n",
       "Bachelor’s degree                                                  49   \n",
       "Doctoral degree                                                     2   \n",
       "I prefer not to answer                                              1   \n",
       "Master’s degree                                                    38   \n",
       "No formal education past high school                                1   \n",
       "Professional degree                                                 7   \n",
       "Some college/university study without earning a...                  4   \n",
       "All                                                               102   \n",
       "\n",
       "Q5                                                  Statistician  Student  All  \n",
       "Q4                                                                              \n",
       "Bachelor’s degree                                              5       43  247  \n",
       "Doctoral degree                                                1       11   97  \n",
       "I prefer not to answer                                         0        0    9  \n",
       "Master’s degree                                                9       26  283  \n",
       "No formal education past high school                           0        3    7  \n",
       "Professional degree                                            1        2   33  \n",
       "Some college/university study without earning a...             0       12   36  \n",
       "All                                                           16       97  712  "
      ]
     },
     "execution_count": 30,
     "metadata": {},
     "output_type": "execute_result"
    }
   ],
   "source": [
    " pd.crosstab(brazil_answers['Q4'],brazil_answers['Q5'], margins = True)"
   ]
  },
  {
   "cell_type": "code",
   "execution_count": 31,
   "metadata": {},
   "outputs": [
    {
     "data": {
      "text/plain": [
       "0.4375"
      ]
     },
     "execution_count": 31,
     "metadata": {},
     "output_type": "execute_result"
    }
   ],
   "source": [
    "21/48"
   ]
  },
  {
   "cell_type": "code",
   "execution_count": 32,
   "metadata": {},
   "outputs": [],
   "source": [
    "list_education=[]\n",
    "for level in cross_br_current_educ['Q4']:\n",
    "    if level in ['Professional degree']:\n",
    "        list_education.append('Bachelor’s degree')\n",
    "    elif level in ['Some college/university study without earning a bachelor’s degree']:\n",
    "        list_education.append('Bachelor’s degree')    \n",
    "    else :\n",
    "        list_education.append(level)\n",
    "cross_br_current_educ['Q4'] = list_education"
   ]
  },
  {
   "cell_type": "code",
   "execution_count": 33,
   "metadata": {
    "scrolled": true
   },
   "outputs": [
    {
     "data": {
      "text/html": [
       "<div>\n",
       "<style scoped>\n",
       "    .dataframe tbody tr th:only-of-type {\n",
       "        vertical-align: middle;\n",
       "    }\n",
       "\n",
       "    .dataframe tbody tr th {\n",
       "        vertical-align: top;\n",
       "    }\n",
       "\n",
       "    .dataframe thead th {\n",
       "        text-align: right;\n",
       "    }\n",
       "</style>\n",
       "<table border=\"1\" class=\"dataframe\">\n",
       "  <thead>\n",
       "    <tr style=\"text-align: right;\">\n",
       "      <th>Q5</th>\n",
       "      <th>educational_level</th>\n",
       "      <th>Business Analyst</th>\n",
       "      <th>DBA/Database Engineer</th>\n",
       "      <th>Data Analyst</th>\n",
       "      <th>Data Engineer</th>\n",
       "      <th>Data Scientist</th>\n",
       "      <th>Not employed</th>\n",
       "      <th>Other</th>\n",
       "      <th>Product/Project Manager</th>\n",
       "      <th>Research Scientist</th>\n",
       "      <th>Software Engineer</th>\n",
       "      <th>Statistician</th>\n",
       "      <th>Student</th>\n",
       "      <th>no answer</th>\n",
       "    </tr>\n",
       "  </thead>\n",
       "  <tbody>\n",
       "    <tr>\n",
       "      <th>0</th>\n",
       "      <td>Bachelor’s degree</td>\n",
       "      <td>56.25</td>\n",
       "      <td>44.44</td>\n",
       "      <td>58.73</td>\n",
       "      <td>40.74</td>\n",
       "      <td>32.93</td>\n",
       "      <td>44.0</td>\n",
       "      <td>41.43</td>\n",
       "      <td>37.93</td>\n",
       "      <td>14.52</td>\n",
       "      <td>58.82</td>\n",
       "      <td>37.50</td>\n",
       "      <td>58.76</td>\n",
       "      <td>12.50</td>\n",
       "    </tr>\n",
       "    <tr>\n",
       "      <th>1</th>\n",
       "      <td>Doctoral degree</td>\n",
       "      <td>10.42</td>\n",
       "      <td>0.00</td>\n",
       "      <td>4.76</td>\n",
       "      <td>11.11</td>\n",
       "      <td>11.59</td>\n",
       "      <td>4.0</td>\n",
       "      <td>20.00</td>\n",
       "      <td>17.24</td>\n",
       "      <td>53.23</td>\n",
       "      <td>1.96</td>\n",
       "      <td>6.25</td>\n",
       "      <td>11.34</td>\n",
       "      <td>6.25</td>\n",
       "    </tr>\n",
       "    <tr>\n",
       "      <th>2</th>\n",
       "      <td>I prefer not to answer</td>\n",
       "      <td>0.00</td>\n",
       "      <td>0.00</td>\n",
       "      <td>1.59</td>\n",
       "      <td>0.00</td>\n",
       "      <td>1.22</td>\n",
       "      <td>8.0</td>\n",
       "      <td>2.86</td>\n",
       "      <td>0.00</td>\n",
       "      <td>1.61</td>\n",
       "      <td>0.98</td>\n",
       "      <td>0.00</td>\n",
       "      <td>0.00</td>\n",
       "      <td>0.00</td>\n",
       "    </tr>\n",
       "    <tr>\n",
       "      <th>3</th>\n",
       "      <td>Master’s degree</td>\n",
       "      <td>31.25</td>\n",
       "      <td>44.44</td>\n",
       "      <td>33.33</td>\n",
       "      <td>48.15</td>\n",
       "      <td>54.27</td>\n",
       "      <td>44.0</td>\n",
       "      <td>35.71</td>\n",
       "      <td>44.83</td>\n",
       "      <td>30.65</td>\n",
       "      <td>37.25</td>\n",
       "      <td>56.25</td>\n",
       "      <td>26.80</td>\n",
       "      <td>0.00</td>\n",
       "    </tr>\n",
       "    <tr>\n",
       "      <th>4</th>\n",
       "      <td>No formal education past high school</td>\n",
       "      <td>2.08</td>\n",
       "      <td>11.11</td>\n",
       "      <td>1.59</td>\n",
       "      <td>0.00</td>\n",
       "      <td>0.00</td>\n",
       "      <td>0.0</td>\n",
       "      <td>0.00</td>\n",
       "      <td>0.00</td>\n",
       "      <td>0.00</td>\n",
       "      <td>0.98</td>\n",
       "      <td>0.00</td>\n",
       "      <td>3.09</td>\n",
       "      <td>0.00</td>\n",
       "    </tr>\n",
       "    <tr>\n",
       "      <th>5</th>\n",
       "      <td>no answer</td>\n",
       "      <td>0.00</td>\n",
       "      <td>0.00</td>\n",
       "      <td>0.00</td>\n",
       "      <td>0.00</td>\n",
       "      <td>0.00</td>\n",
       "      <td>0.0</td>\n",
       "      <td>0.00</td>\n",
       "      <td>0.00</td>\n",
       "      <td>0.00</td>\n",
       "      <td>0.00</td>\n",
       "      <td>0.00</td>\n",
       "      <td>0.00</td>\n",
       "      <td>81.25</td>\n",
       "    </tr>\n",
       "  </tbody>\n",
       "</table>\n",
       "</div>"
      ],
      "text/plain": [
       "Q5                     educational_level  Business Analyst  \\\n",
       "0                      Bachelor’s degree             56.25   \n",
       "1                        Doctoral degree             10.42   \n",
       "2                 I prefer not to answer              0.00   \n",
       "3                        Master’s degree             31.25   \n",
       "4   No formal education past high school              2.08   \n",
       "5                              no answer              0.00   \n",
       "\n",
       "Q5  DBA/Database Engineer  Data Analyst  Data Engineer  Data Scientist  \\\n",
       "0                   44.44         58.73          40.74           32.93   \n",
       "1                    0.00          4.76          11.11           11.59   \n",
       "2                    0.00          1.59           0.00            1.22   \n",
       "3                   44.44         33.33          48.15           54.27   \n",
       "4                   11.11          1.59           0.00            0.00   \n",
       "5                    0.00          0.00           0.00            0.00   \n",
       "\n",
       "Q5  Not employed  Other  Product/Project Manager  Research Scientist  \\\n",
       "0           44.0  41.43                    37.93               14.52   \n",
       "1            4.0  20.00                    17.24               53.23   \n",
       "2            8.0   2.86                     0.00                1.61   \n",
       "3           44.0  35.71                    44.83               30.65   \n",
       "4            0.0   0.00                     0.00                0.00   \n",
       "5            0.0   0.00                     0.00                0.00   \n",
       "\n",
       "Q5  Software Engineer  Statistician  Student  no answer  \n",
       "0               58.82         37.50    58.76      12.50  \n",
       "1                1.96          6.25    11.34       6.25  \n",
       "2                0.98          0.00     0.00       0.00  \n",
       "3               37.25         56.25    26.80       0.00  \n",
       "4                0.98          0.00     3.09       0.00  \n",
       "5                0.00          0.00     0.00      81.25  "
      ]
     },
     "execution_count": 33,
     "metadata": {},
     "output_type": "execute_result"
    }
   ],
   "source": [
    "brazil_current_educ = pd.crosstab(cross_br_current_educ['Q4'],cross_br_current_educ['Q5']).apply(\n",
    "                                                        lambda r: np.round((r/r.sum()*100), decimals = 2), axis=0)\n",
    "brazil_current_educ = brazil_current_educ.reset_index().rename(columns={'Q4':'educational_level'})\n",
    "brazil_current_educ"
   ]
  },
  {
   "cell_type": "markdown",
   "metadata": {},
   "source": [
    "We aggregate the categories: </p>\n",
    "* Bachelor's degree\n",
    "* Professional degree\n",
    "* Some college/university study without earning bachelor's degree \n",
    "\n",
    "In a unique category : higher education level - people who continues their studings before High Scholl"
   ]
  },
  {
   "cell_type": "code",
   "execution_count": 34,
   "metadata": {},
   "outputs": [],
   "source": [
    "# checking currents that working with data in their daily activities\n",
    "brazil_data_roles = brazil_current_educ[['educational_level','Business Analyst', 'Data Analyst', 'Data Scientist', 'Statistician']]\n",
    "brazil_data_roles['sort'] = [2,4,6,3,1,0]\n",
    "brazil_data_roles.sort_values (by = 'sort',inplace = True)\n",
    "brazil_data_roles = brazil_data_roles.reset_index(drop=True)"
   ]
  },
  {
   "cell_type": "markdown",
   "metadata": {},
   "source": [
    "0.8% tem mestrado no Brasil, 89 responderam de quem usa Kaggle no BR atua como cientista de dados\n",
    "\n",
    "lembrando que some college/university study.... é alguém que tem nível superior (pensando na realidade dos USA)</p>\n",
    "bachelor's degree tb é alguém com ensino superior </p>\n",
    "professional degree pode ser alguém com ensino superior ou não (pode ser apenas nível técnico)</p>"
   ]
  },
  {
   "cell_type": "code",
   "execution_count": 35,
   "metadata": {},
   "outputs": [
    {
     "data": {
      "text/html": [
       "<div>\n",
       "<style scoped>\n",
       "    .dataframe tbody tr th:only-of-type {\n",
       "        vertical-align: middle;\n",
       "    }\n",
       "\n",
       "    .dataframe tbody tr th {\n",
       "        vertical-align: top;\n",
       "    }\n",
       "\n",
       "    .dataframe thead th {\n",
       "        text-align: right;\n",
       "    }\n",
       "</style>\n",
       "<table border=\"1\" class=\"dataframe\">\n",
       "  <thead>\n",
       "    <tr style=\"text-align: right;\">\n",
       "      <th>Q5</th>\n",
       "      <th>educational_level</th>\n",
       "      <th>Business Analyst</th>\n",
       "      <th>Data Analyst</th>\n",
       "      <th>Data Scientist</th>\n",
       "      <th>Statistician</th>\n",
       "      <th>sort</th>\n",
       "    </tr>\n",
       "  </thead>\n",
       "  <tbody>\n",
       "    <tr>\n",
       "      <th>0</th>\n",
       "      <td>no answer</td>\n",
       "      <td>0.00</td>\n",
       "      <td>0.00</td>\n",
       "      <td>0.00</td>\n",
       "      <td>0.00</td>\n",
       "      <td>0</td>\n",
       "    </tr>\n",
       "    <tr>\n",
       "      <th>1</th>\n",
       "      <td>No formal education past high school</td>\n",
       "      <td>2.08</td>\n",
       "      <td>1.59</td>\n",
       "      <td>0.00</td>\n",
       "      <td>0.00</td>\n",
       "      <td>1</td>\n",
       "    </tr>\n",
       "    <tr>\n",
       "      <th>2</th>\n",
       "      <td>Bachelor’s degree</td>\n",
       "      <td>56.25</td>\n",
       "      <td>58.73</td>\n",
       "      <td>32.93</td>\n",
       "      <td>37.50</td>\n",
       "      <td>2</td>\n",
       "    </tr>\n",
       "    <tr>\n",
       "      <th>3</th>\n",
       "      <td>Master’s degree</td>\n",
       "      <td>31.25</td>\n",
       "      <td>33.33</td>\n",
       "      <td>54.27</td>\n",
       "      <td>56.25</td>\n",
       "      <td>3</td>\n",
       "    </tr>\n",
       "    <tr>\n",
       "      <th>4</th>\n",
       "      <td>Doctoral degree</td>\n",
       "      <td>10.42</td>\n",
       "      <td>4.76</td>\n",
       "      <td>11.59</td>\n",
       "      <td>6.25</td>\n",
       "      <td>4</td>\n",
       "    </tr>\n",
       "    <tr>\n",
       "      <th>5</th>\n",
       "      <td>I prefer not to answer</td>\n",
       "      <td>0.00</td>\n",
       "      <td>1.59</td>\n",
       "      <td>1.22</td>\n",
       "      <td>0.00</td>\n",
       "      <td>6</td>\n",
       "    </tr>\n",
       "  </tbody>\n",
       "</table>\n",
       "</div>"
      ],
      "text/plain": [
       "Q5                     educational_level  Business Analyst  Data Analyst  \\\n",
       "0                              no answer              0.00          0.00   \n",
       "1   No formal education past high school              2.08          1.59   \n",
       "2                      Bachelor’s degree             56.25         58.73   \n",
       "3                        Master’s degree             31.25         33.33   \n",
       "4                        Doctoral degree             10.42          4.76   \n",
       "5                 I prefer not to answer              0.00          1.59   \n",
       "\n",
       "Q5  Data Scientist  Statistician  sort  \n",
       "0             0.00          0.00     0  \n",
       "1             0.00          0.00     1  \n",
       "2            32.93         37.50     2  \n",
       "3            54.27         56.25     3  \n",
       "4            11.59          6.25     4  \n",
       "5             1.22          0.00     6  "
      ]
     },
     "execution_count": 35,
     "metadata": {},
     "output_type": "execute_result"
    }
   ],
   "source": [
    "brazil_data_roles"
   ]
  },
  {
   "cell_type": "code",
   "execution_count": 36,
   "metadata": {},
   "outputs": [
    {
     "data": {
      "image/png": "[encoded data removed]"
     },
     "metadata": {},
     "output_type": "display_data"
    }
   ],
   "source": [
    "trace1= go.Bar(x= brazil_data_roles['educational_level'][1:6], \n",
    "                y= brazil_data_roles['Business Analyst'][1:6].values,\n",
    "                name = 'Business Analist',\n",
    "                marker = dict(\n",
    "                    color='#b3ddb0'))\n",
    "trace2= go.Bar(x= brazil_data_roles['educational_level'][1:6], \n",
    "                y= brazil_data_roles['Data Analyst'][1:6].values,\n",
    "                name = 'Data Analist',\n",
    "                marker = dict(\n",
    "                    color='#4FD683'))\n",
    "trace3= go.Bar(x= brazil_data_roles['educational_level'][1:6], \n",
    "                y= brazil_data_roles['Data Scientist'][1:6].values,\n",
    "                name = 'Data Scientist',\n",
    "                marker = dict(\n",
    "                    color='#0fa36b'))\n",
    "trace4= go.Bar(x= brazil_data_roles['educational_level'][1:6], \n",
    "                y= brazil_data_roles['Statistician'][1:6].values,\n",
    "                name = 'Statistician',\n",
    "                marker = dict(\n",
    "                    color='#90ECC1'))\n",
    "\n",
    "plot = [trace1, trace2,trace3,trace4]\n",
    "\n",
    "layout = go.Layout(\n",
    "    barmode='group',title='Professional Role per Education Level',yaxis_title='Number of people',\n",
    "    xaxis_title='Education Level'\n",
    ")\n",
    "\n",
    "fig = go.Figure(data=plot, layout=layout)\n",
    "py.offline.iplot(fig, filename='horizontal-bar')"
   ]
  },
  {
   "cell_type": "markdown",
   "metadata": {},
   "source": [
    "### Brazil Media Source ###"
   ]
  },
  {
   "cell_type": "code",
   "execution_count": 37,
   "metadata": {
    "scrolled": false
   },
   "outputs": [
    {
     "data": {
      "text/plain": [
       "'Who/what are your favorite media sources that report on data science topics? (Select all that apply) - Selected Choice - Twitter (data science influencers)'"
      ]
     },
     "execution_count": 37,
     "metadata": {},
     "output_type": "execute_result"
    }
   ],
   "source": [
    "data['Q12_Part_1'][0]"
   ]
  },
  {
   "cell_type": "code",
   "execution_count": 38,
   "metadata": {},
   "outputs": [],
   "source": [
    "brazil_media_values = list()\n",
    "brazil_media_text = list()\n",
    "for i in range(12):\n",
    "    value=brazil_answers['Q12_Part_'+str(i+1)].value_counts()[0]\n",
    "    brazil_media_values.append(value)\n",
    "    text=brazil_answers['Q12_Part_'+str(i+1)].value_counts().index[0]\n",
    "    brazil_media_text.append(text)\n",
    "data_tuples = list(zip(brazil_media_text,brazil_media_values))\n",
    "brazil_media = pd.DataFrame(data_tuples, columns=['media', 'total_people']).sort_values('total_people', \n",
    "                                                                                        ascending = False)\n",
    "brazil_media['total per %'] = np.round(((brazil_media['total_people']/brazil_media['total_people'].sum())*100)\n",
    "                                       , decimals =2)\n",
    "brazil_media.reset_index(inplace = True, drop = True)\n",
    "brazil_media.sort_values(by='total per %', ascending = False)\n",
    "\n",
    "brazil_media['media_short']=[ 'kaggle', 'blogs', 'YouTube', 'Journals', 'Course Foruns', 'Podcasts', 'Twitter', 'Reddit',\n",
    "                       'Slack', 'Hacker News', 'Outhers', 'None']"
   ]
  },
  {
   "cell_type": "code",
   "execution_count": 39,
   "metadata": {},
   "outputs": [
    {
     "data": {
      "text/plain": [
       "53.85"
      ]
     },
     "execution_count": 39,
     "metadata": {},
     "output_type": "execute_result"
    }
   ],
   "source": [
    "#kaggle + blogs + youtube \n",
    "19.84+18.86+15.15"
   ]
  },
  {
   "cell_type": "code",
   "execution_count": 40,
   "metadata": {},
   "outputs": [
    {
     "data": {
      "image/png": "[encoded data removed]"
     },
     "metadata": {},
     "output_type": "display_data"
    }
   ],
   "source": [
    "fig = go.Figure([go.Bar(x= brazil_media['total per %'], \n",
    "                        y=brazil_media['media_short'],\n",
    "                        marker = dict(\n",
    "                         color='#0fa36b'),\n",
    "                        orientation='h')])\n",
    "fig.update_layout(title= \"Fonte de Pesquisa Brasil\", yaxis={'categoryorder':'max ascending'},\n",
    "                   xaxis_title='% respostas')\n",
    "py.offline.iplot(fig, filename='horizontal-bar')"
   ]
  },
  {
   "cell_type": "markdown",
   "metadata": {},
   "source": [
    "### Brazil Media Source - accessing level education ###"
   ]
  },
  {
   "cell_type": "code",
   "execution_count": 41,
   "metadata": {
    "scrolled": false
   },
   "outputs": [
    {
     "data": {
      "text/html": [
       "<div>\n",
       "<style scoped>\n",
       "    .dataframe tbody tr th:only-of-type {\n",
       "        vertical-align: middle;\n",
       "    }\n",
       "\n",
       "    .dataframe tbody tr th {\n",
       "        vertical-align: top;\n",
       "    }\n",
       "\n",
       "    .dataframe thead th {\n",
       "        text-align: right;\n",
       "    }\n",
       "</style>\n",
       "<table border=\"1\" class=\"dataframe\">\n",
       "  <thead>\n",
       "    <tr style=\"text-align: right;\">\n",
       "      <th></th>\n",
       "      <th>education_level</th>\n",
       "      <th>twitter</th>\n",
       "      <th>hacker news</th>\n",
       "      <th>reddit</th>\n",
       "      <th>kaggle</th>\n",
       "      <th>course foruns</th>\n",
       "      <th>YouTube</th>\n",
       "      <th>podcasts</th>\n",
       "      <th>blogs</th>\n",
       "      <th>journal publications</th>\n",
       "      <th>slack communities</th>\n",
       "      <th>none</th>\n",
       "      <th>other</th>\n",
       "    </tr>\n",
       "  </thead>\n",
       "  <tbody>\n",
       "    <tr>\n",
       "      <th>0</th>\n",
       "      <td>Higher Education</td>\n",
       "      <td>0</td>\n",
       "      <td>0</td>\n",
       "      <td>Reddit (r/machinelearning, r/datascience, etc)</td>\n",
       "      <td>Kaggle (forums, blog, social media, etc)</td>\n",
       "      <td>0</td>\n",
       "      <td>YouTube (Cloud AI Adventures, Siraj Raval, etc)</td>\n",
       "      <td>Podcasts (Chai Time Data Science, Linear Digre...</td>\n",
       "      <td>Blogs (Towards Data Science, Medium, Analytics...</td>\n",
       "      <td>0</td>\n",
       "      <td>Slack Communities (ods.ai, kagglenoobs, etc)</td>\n",
       "      <td>0</td>\n",
       "      <td>0</td>\n",
       "    </tr>\n",
       "    <tr>\n",
       "      <th>1</th>\n",
       "      <td>Master’s degree</td>\n",
       "      <td>0</td>\n",
       "      <td>0</td>\n",
       "      <td>0</td>\n",
       "      <td>Kaggle (forums, blog, social media, etc)</td>\n",
       "      <td>0</td>\n",
       "      <td>YouTube (Cloud AI Adventures, Siraj Raval, etc)</td>\n",
       "      <td>0</td>\n",
       "      <td>Blogs (Towards Data Science, Medium, Analytics...</td>\n",
       "      <td>0</td>\n",
       "      <td>0</td>\n",
       "      <td>0</td>\n",
       "      <td>0</td>\n",
       "    </tr>\n",
       "  </tbody>\n",
       "</table>\n",
       "</div>"
      ],
      "text/plain": [
       "    education_level twitter hacker news  \\\n",
       "0  Higher Education       0           0   \n",
       "1   Master’s degree       0           0   \n",
       "\n",
       "                                           reddit  \\\n",
       "0  Reddit (r/machinelearning, r/datascience, etc)   \n",
       "1                                               0   \n",
       "\n",
       "                                     kaggle course foruns  \\\n",
       "0  Kaggle (forums, blog, social media, etc)             0   \n",
       "1  Kaggle (forums, blog, social media, etc)             0   \n",
       "\n",
       "                                           YouTube  \\\n",
       "0  YouTube (Cloud AI Adventures, Siraj Raval, etc)   \n",
       "1  YouTube (Cloud AI Adventures, Siraj Raval, etc)   \n",
       "\n",
       "                                            podcasts  \\\n",
       "0  Podcasts (Chai Time Data Science, Linear Digre...   \n",
       "1                                                  0   \n",
       "\n",
       "                                               blogs journal publications  \\\n",
       "0  Blogs (Towards Data Science, Medium, Analytics...                    0   \n",
       "1  Blogs (Towards Data Science, Medium, Analytics...                    0   \n",
       "\n",
       "                              slack communities none other  \n",
       "0  Slack Communities (ods.ai, kagglenoobs, etc)    0     0  \n",
       "1                                             0    0     0  "
      ]
     },
     "execution_count": 41,
     "metadata": {},
     "output_type": "execute_result"
    }
   ],
   "source": [
    "br_media_educ = brazil_answers[['Q4', 'Q12_Part_1', 'Q12_Part_2', 'Q12_Part_3', 'Q12_Part_4', 'Q12_Part_5',\n",
    "                                'Q12_Part_6','Q12_Part_7','Q12_Part_8', 'Q12_Part_9','Q12_Part_10', 'Q12_Part_11',\n",
    "                               'Q12_Part_12']].reset_index(drop=True)\n",
    "br_media_educ.columns = ['education_level', 'twitter', 'hacker news', 'reddit', 'kaggle', 'course foruns', 'YouTube',\n",
    "                         'podcasts', 'blogs', 'journal publications', 'slack communities', 'none', 'other']\n",
    "br_media_educ.fillna(value = 0, inplace = True)\n",
    "#using higher education\n",
    "br_media_educ['education_level'] = br_media_educ['education_level'].replace(\n",
    "                                  \"Bachelor’s degree\", 'Higher Education').replace(\n",
    "                                 'Professional degree', 'Higher Education').replace(\n",
    "                                \"Some college/university study without earning a bachelor’s degree\", \n",
    "                                'Higher Education')\n",
    "br_media_educ.head(2)"
   ]
  },
  {
   "cell_type": "code",
   "execution_count": 42,
   "metadata": {
    "scrolled": true
   },
   "outputs": [
    {
     "data": {
      "text/html": [
       "<div>\n",
       "<style scoped>\n",
       "    .dataframe tbody tr th:only-of-type {\n",
       "        vertical-align: middle;\n",
       "    }\n",
       "\n",
       "    .dataframe tbody tr th {\n",
       "        vertical-align: top;\n",
       "    }\n",
       "\n",
       "    .dataframe thead th {\n",
       "        text-align: right;\n",
       "    }\n",
       "</style>\n",
       "<table border=\"1\" class=\"dataframe\">\n",
       "  <thead>\n",
       "    <tr style=\"text-align: right;\">\n",
       "      <th></th>\n",
       "      <th>education_level</th>\n",
       "      <th>twitter</th>\n",
       "      <th>hacker news</th>\n",
       "      <th>reddit</th>\n",
       "      <th>kaggle</th>\n",
       "      <th>course foruns</th>\n",
       "      <th>YouTube</th>\n",
       "      <th>podcasts</th>\n",
       "      <th>blogs</th>\n",
       "      <th>journal publications</th>\n",
       "      <th>slack communities</th>\n",
       "      <th>none</th>\n",
       "      <th>other</th>\n",
       "    </tr>\n",
       "  </thead>\n",
       "  <tbody>\n",
       "    <tr>\n",
       "      <th>0</th>\n",
       "      <td>Higher Education</td>\n",
       "      <td>0</td>\n",
       "      <td>0</td>\n",
       "      <td>1</td>\n",
       "      <td>1</td>\n",
       "      <td>0</td>\n",
       "      <td>1</td>\n",
       "      <td>1</td>\n",
       "      <td>1</td>\n",
       "      <td>0</td>\n",
       "      <td>1</td>\n",
       "      <td>0</td>\n",
       "      <td>0</td>\n",
       "    </tr>\n",
       "    <tr>\n",
       "      <th>1</th>\n",
       "      <td>Master’s degree</td>\n",
       "      <td>0</td>\n",
       "      <td>0</td>\n",
       "      <td>0</td>\n",
       "      <td>1</td>\n",
       "      <td>0</td>\n",
       "      <td>1</td>\n",
       "      <td>0</td>\n",
       "      <td>1</td>\n",
       "      <td>0</td>\n",
       "      <td>0</td>\n",
       "      <td>0</td>\n",
       "      <td>0</td>\n",
       "    </tr>\n",
       "    <tr>\n",
       "      <th>2</th>\n",
       "      <td>Higher Education</td>\n",
       "      <td>0</td>\n",
       "      <td>0</td>\n",
       "      <td>1</td>\n",
       "      <td>0</td>\n",
       "      <td>0</td>\n",
       "      <td>0</td>\n",
       "      <td>0</td>\n",
       "      <td>1</td>\n",
       "      <td>1</td>\n",
       "      <td>0</td>\n",
       "      <td>0</td>\n",
       "      <td>0</td>\n",
       "    </tr>\n",
       "  </tbody>\n",
       "</table>\n",
       "</div>"
      ],
      "text/plain": [
       "    education_level twitter hacker news reddit kaggle course foruns YouTube  \\\n",
       "0  Higher Education       0           0      1      1             0       1   \n",
       "1   Master’s degree       0           0      0      1             0       1   \n",
       "2  Higher Education       0           0      1      0             0       0   \n",
       "\n",
       "  podcasts blogs journal publications slack communities none other  \n",
       "0        1     1                    0                 1    0     0  \n",
       "1        0     1                    0                 0    0     0  \n",
       "2        0     1                    1                 0    0     0  "
      ]
     },
     "execution_count": 42,
     "metadata": {},
     "output_type": "execute_result"
    }
   ],
   "source": [
    "#input values in any type of media\n",
    "br_media_educ.loc[br_media_educ['twitter'] !=0, \"twitter\"] = 1\n",
    "br_media_educ.loc[br_media_educ['hacker news'] !=0, \"hacker news\"] = 1\n",
    "br_media_educ.loc[br_media_educ['reddit'] !=0, \"reddit\"] = 1\n",
    "br_media_educ.loc[br_media_educ['kaggle'] !=0, \"kaggle\"] = 1\n",
    "br_media_educ.loc[br_media_educ['course foruns'] !=0, \"course foruns\"] = 1\n",
    "br_media_educ.loc[br_media_educ['YouTube'] !=0, \"YouTube\"] = 1\n",
    "br_media_educ.loc[br_media_educ['podcasts'] !=0, \"podcasts\"] = 1\n",
    "br_media_educ.loc[br_media_educ['blogs'] !=0, \"blogs\"] = 1\n",
    "br_media_educ.loc[br_media_educ['journal publications'] !=0, \"journal publications\"] = 1\n",
    "br_media_educ.loc[br_media_educ['slack communities'] !=0, \"slack communities\"] = 1\n",
    "br_media_educ.loc[br_media_educ['none'] !=0, \"none\"] = 1\n",
    "br_media_educ.loc[br_media_educ['other'] !=0, \"other\"] = 1\n",
    "\n",
    "br_media_educ.head(3)"
   ]
  },
  {
   "cell_type": "markdown",
   "metadata": {},
   "source": [
    "#### Looking Higher Education closely #####"
   ]
  },
  {
   "cell_type": "code",
   "execution_count": 43,
   "metadata": {
    "scrolled": true
   },
   "outputs": [
    {
     "data": {
      "text/html": [
       "<div>\n",
       "<style scoped>\n",
       "    .dataframe tbody tr th:only-of-type {\n",
       "        vertical-align: middle;\n",
       "    }\n",
       "\n",
       "    .dataframe tbody tr th {\n",
       "        vertical-align: top;\n",
       "    }\n",
       "\n",
       "    .dataframe thead th {\n",
       "        text-align: right;\n",
       "    }\n",
       "</style>\n",
       "<table border=\"1\" class=\"dataframe\">\n",
       "  <thead>\n",
       "    <tr style=\"text-align: right;\">\n",
       "      <th></th>\n",
       "      <th>education_level</th>\n",
       "      <th>twitter</th>\n",
       "      <th>hacker news</th>\n",
       "      <th>reddit</th>\n",
       "      <th>kaggle</th>\n",
       "      <th>course foruns</th>\n",
       "      <th>YouTube</th>\n",
       "      <th>podcasts</th>\n",
       "      <th>blogs</th>\n",
       "      <th>journal publications</th>\n",
       "      <th>slack communities</th>\n",
       "      <th>none</th>\n",
       "      <th>other</th>\n",
       "    </tr>\n",
       "  </thead>\n",
       "  <tbody>\n",
       "    <tr>\n",
       "      <th>1</th>\n",
       "      <td>Doctoral degree</td>\n",
       "      <td>16</td>\n",
       "      <td>6</td>\n",
       "      <td>13</td>\n",
       "      <td>54</td>\n",
       "      <td>22</td>\n",
       "      <td>32</td>\n",
       "      <td>8</td>\n",
       "      <td>43</td>\n",
       "      <td>50</td>\n",
       "      <td>9</td>\n",
       "      <td>3</td>\n",
       "      <td>3</td>\n",
       "    </tr>\n",
       "    <tr>\n",
       "      <th>2</th>\n",
       "      <td>Higher Education</td>\n",
       "      <td>61</td>\n",
       "      <td>32</td>\n",
       "      <td>55</td>\n",
       "      <td>184</td>\n",
       "      <td>72</td>\n",
       "      <td>155</td>\n",
       "      <td>82</td>\n",
       "      <td>176</td>\n",
       "      <td>53</td>\n",
       "      <td>45</td>\n",
       "      <td>7</td>\n",
       "      <td>28</td>\n",
       "    </tr>\n",
       "    <tr>\n",
       "      <th>3</th>\n",
       "      <td>I prefer not to answer</td>\n",
       "      <td>0</td>\n",
       "      <td>1</td>\n",
       "      <td>0</td>\n",
       "      <td>6</td>\n",
       "      <td>3</td>\n",
       "      <td>3</td>\n",
       "      <td>1</td>\n",
       "      <td>7</td>\n",
       "      <td>2</td>\n",
       "      <td>1</td>\n",
       "      <td>0</td>\n",
       "      <td>1</td>\n",
       "    </tr>\n",
       "    <tr>\n",
       "      <th>4</th>\n",
       "      <td>Master’s degree</td>\n",
       "      <td>66</td>\n",
       "      <td>16</td>\n",
       "      <td>56</td>\n",
       "      <td>172</td>\n",
       "      <td>65</td>\n",
       "      <td>127</td>\n",
       "      <td>69</td>\n",
       "      <td>175</td>\n",
       "      <td>74</td>\n",
       "      <td>38</td>\n",
       "      <td>4</td>\n",
       "      <td>17</td>\n",
       "    </tr>\n",
       "    <tr>\n",
       "      <th>5</th>\n",
       "      <td>No formal education past high school</td>\n",
       "      <td>2</td>\n",
       "      <td>0</td>\n",
       "      <td>1</td>\n",
       "      <td>7</td>\n",
       "      <td>1</td>\n",
       "      <td>6</td>\n",
       "      <td>1</td>\n",
       "      <td>1</td>\n",
       "      <td>0</td>\n",
       "      <td>0</td>\n",
       "      <td>0</td>\n",
       "      <td>0</td>\n",
       "    </tr>\n",
       "  </tbody>\n",
       "</table>\n",
       "</div>"
      ],
      "text/plain": [
       "                        education_level  twitter  hacker news  reddit  kaggle  \\\n",
       "1                       Doctoral degree       16            6      13      54   \n",
       "2                      Higher Education       61           32      55     184   \n",
       "3                I prefer not to answer        0            1       0       6   \n",
       "4                       Master’s degree       66           16      56     172   \n",
       "5  No formal education past high school        2            0       1       7   \n",
       "\n",
       "   course foruns  YouTube  podcasts  blogs  journal publications  \\\n",
       "1             22       32         8     43                    50   \n",
       "2             72      155        82    176                    53   \n",
       "3              3        3         1      7                     2   \n",
       "4             65      127        69    175                    74   \n",
       "5              1        6         1      1                     0   \n",
       "\n",
       "   slack communities  none  other  \n",
       "1                  9     3      3  \n",
       "2                 45     7     28  \n",
       "3                  1     0      1  \n",
       "4                 38     4     17  \n",
       "5                  0     0      0  "
      ]
     },
     "execution_count": 43,
     "metadata": {},
     "output_type": "execute_result"
    }
   ],
   "source": [
    "#checking consulting media source by education level\n",
    "br_media_educ_group = br_media_educ.groupby('education_level')['twitter','hacker news','reddit','kaggle', 'course foruns','YouTube',\n",
    "                                         'podcasts','blogs','journal publications', 'slack communities','none',\n",
    "                                         'other'].sum().reset_index().drop(index = 0)\n",
    "br_media_educ_group"
   ]
  },
  {
   "cell_type": "markdown",
   "metadata": {},
   "source": [
    "We can notice that independente of education leve, people who answered the survey access one of the medias source"
   ]
  },
  {
   "cell_type": "code",
   "execution_count": 44,
   "metadata": {},
   "outputs": [],
   "source": [
    "higher_media_educ = br_media_educ_group.loc[br_media_educ_group['education_level'] == 'Higher Education'\n",
    "                                           ].drop(columns = ['education_level']).reset_index(drop = True)\n",
    "total_higher_educ = br_media_educ.loc[br_media_educ['education_level'] == 'Higher Education'].shape[0]"
   ]
  },
  {
   "cell_type": "code",
   "execution_count": 45,
   "metadata": {},
   "outputs": [
    {
     "data": {
      "text/html": [
       "<div>\n",
       "<style scoped>\n",
       "    .dataframe tbody tr th:only-of-type {\n",
       "        vertical-align: middle;\n",
       "    }\n",
       "\n",
       "    .dataframe tbody tr th {\n",
       "        vertical-align: top;\n",
       "    }\n",
       "\n",
       "    .dataframe thead th {\n",
       "        text-align: right;\n",
       "    }\n",
       "</style>\n",
       "<table border=\"1\" class=\"dataframe\">\n",
       "  <thead>\n",
       "    <tr style=\"text-align: right;\">\n",
       "      <th></th>\n",
       "      <th>twitter</th>\n",
       "      <th>hacker news</th>\n",
       "      <th>reddit</th>\n",
       "      <th>kaggle</th>\n",
       "      <th>course foruns</th>\n",
       "      <th>YouTube</th>\n",
       "      <th>podcasts</th>\n",
       "      <th>blogs</th>\n",
       "      <th>journal publications</th>\n",
       "      <th>slack communities</th>\n",
       "      <th>none</th>\n",
       "      <th>other</th>\n",
       "    </tr>\n",
       "  </thead>\n",
       "  <tbody>\n",
       "    <tr>\n",
       "      <th>0</th>\n",
       "      <td>19.18</td>\n",
       "      <td>10.06</td>\n",
       "      <td>17.3</td>\n",
       "      <td>57.86</td>\n",
       "      <td>22.64</td>\n",
       "      <td>48.74</td>\n",
       "      <td>25.79</td>\n",
       "      <td>55.35</td>\n",
       "      <td>16.67</td>\n",
       "      <td>14.15</td>\n",
       "      <td>2.2</td>\n",
       "      <td>8.81</td>\n",
       "    </tr>\n",
       "  </tbody>\n",
       "</table>\n",
       "</div>"
      ],
      "text/plain": [
       "   twitter  hacker news  reddit  kaggle  course foruns  YouTube  podcasts  \\\n",
       "0    19.18        10.06    17.3   57.86          22.64    48.74     25.79   \n",
       "\n",
       "   blogs  journal publications  slack communities  none  other  \n",
       "0  55.35                 16.67              14.15   2.2   8.81  "
      ]
     },
     "execution_count": 45,
     "metadata": {},
     "output_type": "execute_result"
    }
   ],
   "source": [
    "np.round((higher_media_educ/total_higher_educ)*100, decimals=2)"
   ]
  },
  {
   "cell_type": "markdown",
   "metadata": {},
   "source": [
    "### Brazil Plataform Courses ###"
   ]
  },
  {
   "cell_type": "code",
   "execution_count": 46,
   "metadata": {},
   "outputs": [
    {
     "data": {
      "text/plain": [
       "'On which platforms have you begun or completed data science courses? (Select all that apply) - Selected Choice - Udacity'"
      ]
     },
     "execution_count": 46,
     "metadata": {},
     "output_type": "execute_result"
    }
   ],
   "source": [
    "data['Q13_Part_1'][0]"
   ]
  },
  {
   "cell_type": "code",
   "execution_count": 47,
   "metadata": {},
   "outputs": [
    {
     "data": {
      "text/html": [
       "<div>\n",
       "<style scoped>\n",
       "    .dataframe tbody tr th:only-of-type {\n",
       "        vertical-align: middle;\n",
       "    }\n",
       "\n",
       "    .dataframe tbody tr th {\n",
       "        vertical-align: top;\n",
       "    }\n",
       "\n",
       "    .dataframe thead th {\n",
       "        text-align: right;\n",
       "    }\n",
       "</style>\n",
       "<table border=\"1\" class=\"dataframe\">\n",
       "  <thead>\n",
       "    <tr style=\"text-align: right;\">\n",
       "      <th></th>\n",
       "      <th>course</th>\n",
       "      <th>total_people</th>\n",
       "      <th>total per %</th>\n",
       "    </tr>\n",
       "  </thead>\n",
       "  <tbody>\n",
       "    <tr>\n",
       "      <th>0</th>\n",
       "      <td>Coursera</td>\n",
       "      <td>343</td>\n",
       "      <td>19.40</td>\n",
       "    </tr>\n",
       "    <tr>\n",
       "      <th>1</th>\n",
       "      <td>Udemy</td>\n",
       "      <td>326</td>\n",
       "      <td>18.44</td>\n",
       "    </tr>\n",
       "    <tr>\n",
       "      <th>2</th>\n",
       "      <td>Kaggle Courses (i.e. Kaggle Learn)</td>\n",
       "      <td>206</td>\n",
       "      <td>11.65</td>\n",
       "    </tr>\n",
       "    <tr>\n",
       "      <th>3</th>\n",
       "      <td>Udacity</td>\n",
       "      <td>204</td>\n",
       "      <td>11.54</td>\n",
       "    </tr>\n",
       "    <tr>\n",
       "      <th>4</th>\n",
       "      <td>University Courses (resulting in a university ...</td>\n",
       "      <td>171</td>\n",
       "      <td>9.67</td>\n",
       "    </tr>\n",
       "    <tr>\n",
       "      <th>5</th>\n",
       "      <td>DataCamp</td>\n",
       "      <td>157</td>\n",
       "      <td>8.88</td>\n",
       "    </tr>\n",
       "    <tr>\n",
       "      <th>6</th>\n",
       "      <td>edX</td>\n",
       "      <td>151</td>\n",
       "      <td>8.54</td>\n",
       "    </tr>\n",
       "    <tr>\n",
       "      <th>7</th>\n",
       "      <td>Other</td>\n",
       "      <td>71</td>\n",
       "      <td>4.02</td>\n",
       "    </tr>\n",
       "    <tr>\n",
       "      <th>8</th>\n",
       "      <td>LinkedIn Learning</td>\n",
       "      <td>46</td>\n",
       "      <td>2.60</td>\n",
       "    </tr>\n",
       "    <tr>\n",
       "      <th>9</th>\n",
       "      <td>Fast.ai</td>\n",
       "      <td>38</td>\n",
       "      <td>2.15</td>\n",
       "    </tr>\n",
       "    <tr>\n",
       "      <th>10</th>\n",
       "      <td>None</td>\n",
       "      <td>28</td>\n",
       "      <td>1.58</td>\n",
       "    </tr>\n",
       "    <tr>\n",
       "      <th>11</th>\n",
       "      <td>DataQuest</td>\n",
       "      <td>27</td>\n",
       "      <td>1.53</td>\n",
       "    </tr>\n",
       "  </tbody>\n",
       "</table>\n",
       "</div>"
      ],
      "text/plain": [
       "                                               course  total_people  \\\n",
       "0                                            Coursera           343   \n",
       "1                                               Udemy           326   \n",
       "2                  Kaggle Courses (i.e. Kaggle Learn)           206   \n",
       "3                                             Udacity           204   \n",
       "4   University Courses (resulting in a university ...           171   \n",
       "5                                            DataCamp           157   \n",
       "6                                                 edX           151   \n",
       "7                                               Other            71   \n",
       "8                                   LinkedIn Learning            46   \n",
       "9                                             Fast.ai            38   \n",
       "10                                               None            28   \n",
       "11                                          DataQuest            27   \n",
       "\n",
       "    total per %  \n",
       "0         19.40  \n",
       "1         18.44  \n",
       "2         11.65  \n",
       "3         11.54  \n",
       "4          9.67  \n",
       "5          8.88  \n",
       "6          8.54  \n",
       "7          4.02  \n",
       "8          2.60  \n",
       "9          2.15  \n",
       "10         1.58  \n",
       "11         1.53  "
      ]
     },
     "execution_count": 47,
     "metadata": {},
     "output_type": "execute_result"
    }
   ],
   "source": [
    "brazil_courses_values = list()\n",
    "brazil_courses_text = list()\n",
    "for i in range(12):\n",
    "    value=brazil_answers['Q13_Part_'+str(i+1)].value_counts()[0]\n",
    "    brazil_courses_values.append(value)\n",
    "    text=brazil_answers['Q13_Part_'+str(i+1)].value_counts().index[0]\n",
    "    brazil_courses_text.append(text)\n",
    "data_tuples = list(zip(brazil_courses_text,brazil_courses_values))\n",
    "brazil_courses = pd.DataFrame(data_tuples, columns=['course', 'total_people']).sort_values('total_people', \n",
    "                                                                                        ascending = False)\n",
    "brazil_courses['total per %'] = np.round(((brazil_courses['total_people']/brazil_courses['total_people'].sum())*100)\n",
    "                                       , decimals =2)\n",
    "brazil_courses.reset_index(inplace = True, drop = True)\n",
    "brazil_courses.sort_values(by='total per %', ascending = False)"
   ]
  },
  {
   "cell_type": "markdown",
   "metadata": {},
   "source": [
    "* Coursera has 1814 courses about DS - source (https://www.coursera.org/search?query=data%20science&)\n",
    "* Udemy has 10 thousand courses with with the expression *data scince* - source (https://www.udemy.com/courses/search/?q=data+science)\n",
    "\n",
    "Language could be a problem for people who do not speak English"
   ]
  },
  {
   "cell_type": "code",
   "execution_count": 48,
   "metadata": {},
   "outputs": [
    {
     "data": {
      "image/png": "[encoded data removed]"
     },
     "metadata": {},
     "output_type": "display_data"
    }
   ],
   "source": [
    "fig = go.Figure([go.Bar(x= brazil_courses['total per %'], \n",
    "                        y=brazil_courses['course'],\n",
    "                        marker = dict(\n",
    "                         color='#0fa36b'),\n",
    "                        orientation='h')])\n",
    "fig.update_layout(title= \"Plataforma de cursos acessados no Brasil\", yaxis={'categoryorder':'max ascending'},\n",
    "                   xaxis_title='% respostas')\n",
    "py.offline.iplot(fig, filename='horizontal-bar')"
   ]
  },
  {
   "cell_type": "markdown",
   "metadata": {},
   "source": [
    "Need to remember that Coursera most of the courses are in English and in Udemy we have a lot of courses in Portuguese about programming + analytics and data science"
   ]
  },
  {
   "cell_type": "markdown",
   "metadata": {},
   "source": [
    "#### Looking Higher Education closely #####"
   ]
  },
  {
   "cell_type": "code",
   "execution_count": 49,
   "metadata": {},
   "outputs": [
    {
     "data": {
      "text/html": [
       "<div>\n",
       "<style scoped>\n",
       "    .dataframe tbody tr th:only-of-type {\n",
       "        vertical-align: middle;\n",
       "    }\n",
       "\n",
       "    .dataframe tbody tr th {\n",
       "        vertical-align: top;\n",
       "    }\n",
       "\n",
       "    .dataframe thead th {\n",
       "        text-align: right;\n",
       "    }\n",
       "</style>\n",
       "<table border=\"1\" class=\"dataframe\">\n",
       "  <thead>\n",
       "    <tr style=\"text-align: right;\">\n",
       "      <th></th>\n",
       "      <th>education_level</th>\n",
       "      <th>Coursera</th>\n",
       "      <th>Udemy</th>\n",
       "      <th>Kaggle Courses (i.e. Kaggle Learn)</th>\n",
       "      <th>Udacity</th>\n",
       "      <th>University Courses (resulting in a university degree)</th>\n",
       "      <th>DataCamp</th>\n",
       "      <th>edX</th>\n",
       "      <th>Other</th>\n",
       "      <th>LinkedIn Learning</th>\n",
       "      <th>Fast.ai</th>\n",
       "      <th>None</th>\n",
       "      <th>DataQuest</th>\n",
       "    </tr>\n",
       "  </thead>\n",
       "  <tbody>\n",
       "    <tr>\n",
       "      <th>1</th>\n",
       "      <td>Doctoral degree</td>\n",
       "      <td>26</td>\n",
       "      <td>43</td>\n",
       "      <td>24</td>\n",
       "      <td>13</td>\n",
       "      <td>3</td>\n",
       "      <td>25</td>\n",
       "      <td>4</td>\n",
       "      <td>32</td>\n",
       "      <td>8</td>\n",
       "      <td>25</td>\n",
       "      <td>8</td>\n",
       "      <td>7</td>\n",
       "    </tr>\n",
       "    <tr>\n",
       "      <th>2</th>\n",
       "      <td>Higher Education</td>\n",
       "      <td>89</td>\n",
       "      <td>136</td>\n",
       "      <td>60</td>\n",
       "      <td>73</td>\n",
       "      <td>15</td>\n",
       "      <td>98</td>\n",
       "      <td>20</td>\n",
       "      <td>165</td>\n",
       "      <td>18</td>\n",
       "      <td>59</td>\n",
       "      <td>13</td>\n",
       "      <td>34</td>\n",
       "    </tr>\n",
       "    <tr>\n",
       "      <th>3</th>\n",
       "      <td>I prefer not to answer</td>\n",
       "      <td>1</td>\n",
       "      <td>4</td>\n",
       "      <td>0</td>\n",
       "      <td>1</td>\n",
       "      <td>1</td>\n",
       "      <td>4</td>\n",
       "      <td>0</td>\n",
       "      <td>5</td>\n",
       "      <td>2</td>\n",
       "      <td>0</td>\n",
       "      <td>1</td>\n",
       "      <td>1</td>\n",
       "    </tr>\n",
       "    <tr>\n",
       "      <th>4</th>\n",
       "      <td>Master’s degree</td>\n",
       "      <td>87</td>\n",
       "      <td>159</td>\n",
       "      <td>66</td>\n",
       "      <td>70</td>\n",
       "      <td>7</td>\n",
       "      <td>75</td>\n",
       "      <td>14</td>\n",
       "      <td>119</td>\n",
       "      <td>18</td>\n",
       "      <td>87</td>\n",
       "      <td>6</td>\n",
       "      <td>28</td>\n",
       "    </tr>\n",
       "    <tr>\n",
       "      <th>5</th>\n",
       "      <td>No formal education past high school</td>\n",
       "      <td>1</td>\n",
       "      <td>1</td>\n",
       "      <td>1</td>\n",
       "      <td>0</td>\n",
       "      <td>1</td>\n",
       "      <td>4</td>\n",
       "      <td>0</td>\n",
       "      <td>5</td>\n",
       "      <td>0</td>\n",
       "      <td>0</td>\n",
       "      <td>0</td>\n",
       "      <td>1</td>\n",
       "    </tr>\n",
       "  </tbody>\n",
       "</table>\n",
       "</div>"
      ],
      "text/plain": [
       "                        education_level  Coursera  Udemy  \\\n",
       "1                       Doctoral degree        26     43   \n",
       "2                      Higher Education        89    136   \n",
       "3                I prefer not to answer         1      4   \n",
       "4                       Master’s degree        87    159   \n",
       "5  No formal education past high school         1      1   \n",
       "\n",
       "   Kaggle Courses (i.e. Kaggle Learn)  Udacity  \\\n",
       "1                                  24       13   \n",
       "2                                  60       73   \n",
       "3                                   0        1   \n",
       "4                                  66       70   \n",
       "5                                   1        0   \n",
       "\n",
       "   University Courses (resulting in a university degree)  DataCamp  edX  \\\n",
       "1                                                  3            25    4   \n",
       "2                                                 15            98   20   \n",
       "3                                                  1             4    0   \n",
       "4                                                  7            75   14   \n",
       "5                                                  1             4    0   \n",
       "\n",
       "   Other  LinkedIn Learning  Fast.ai  None  DataQuest  \n",
       "1     32                  8       25     8          7  \n",
       "2    165                 18       59    13         34  \n",
       "3      5                  2        0     1          1  \n",
       "4    119                 18       87     6         28  \n",
       "5      5                  0        0     0          1  "
      ]
     },
     "execution_count": 49,
     "metadata": {},
     "output_type": "execute_result"
    }
   ],
   "source": [
    "br_courses_educ = brazil_answers[['Q4', 'Q13_Part_1', 'Q13_Part_2', 'Q13_Part_3', 'Q13_Part_4', 'Q13_Part_5',\n",
    "                                'Q13_Part_6','Q13_Part_7','Q13_Part_8', 'Q13_Part_9','Q13_Part_10', 'Q13_Part_11',\n",
    "                               'Q13_Part_12']].reset_index(drop=True)\n",
    "br_courses_educ.columns = ['education_level', 'Coursera','Udemy', 'Kaggle Courses (i.e. Kaggle Learn)', 'Udacity',\n",
    "                            'University Courses (resulting in a university degree)','DataCamp','edX','Other', \n",
    "                            'LinkedIn Learning','Fast.ai','None', 'DataQuest']\n",
    "br_courses_educ.fillna(value = 0, inplace = True)\n",
    "br_courses_educ['education_level'] = br_courses_educ['education_level'].replace(\n",
    "                                  \"Bachelor’s degree\", 'Higher Education').replace(\n",
    "                                 'Professional degree', 'Higher Education').replace(\n",
    "                                \"Some college/university study without earning a bachelor’s degree\", \n",
    "                                'Higher Education')\n",
    "for col in br_courses_educ.columns[1:]:\n",
    "    br_courses_educ.loc[br_courses_educ[col] != 0, col] =1\n",
    "br_courses_group = br_courses_educ.groupby('education_level')['Coursera','Udemy', 'Kaggle Courses (i.e. Kaggle Learn)', 'Udacity',\n",
    "                            'University Courses (resulting in a university degree)','DataCamp','edX','Other', \n",
    "                            'LinkedIn Learning','Fast.ai','None', 'DataQuest'].sum().reset_index().drop(index = 0)\n",
    "br_courses_group"
   ]
  },
  {
   "cell_type": "code",
   "execution_count": 50,
   "metadata": {},
   "outputs": [
    {
     "data": {
      "text/html": [
       "<div>\n",
       "<style scoped>\n",
       "    .dataframe tbody tr th:only-of-type {\n",
       "        vertical-align: middle;\n",
       "    }\n",
       "\n",
       "    .dataframe tbody tr th {\n",
       "        vertical-align: top;\n",
       "    }\n",
       "\n",
       "    .dataframe thead th {\n",
       "        text-align: right;\n",
       "    }\n",
       "</style>\n",
       "<table border=\"1\" class=\"dataframe\">\n",
       "  <thead>\n",
       "    <tr style=\"text-align: right;\">\n",
       "      <th></th>\n",
       "      <th>Coursera</th>\n",
       "      <th>Udemy</th>\n",
       "      <th>Kaggle Courses (i.e. Kaggle Learn)</th>\n",
       "      <th>Udacity</th>\n",
       "      <th>University Courses (resulting in a university degree)</th>\n",
       "      <th>DataCamp</th>\n",
       "      <th>edX</th>\n",
       "      <th>Other</th>\n",
       "      <th>LinkedIn Learning</th>\n",
       "      <th>Fast.ai</th>\n",
       "      <th>None</th>\n",
       "      <th>DataQuest</th>\n",
       "    </tr>\n",
       "  </thead>\n",
       "  <tbody>\n",
       "    <tr>\n",
       "      <th>0</th>\n",
       "      <td>27.99</td>\n",
       "      <td>42.77</td>\n",
       "      <td>18.87</td>\n",
       "      <td>22.96</td>\n",
       "      <td>4.72</td>\n",
       "      <td>30.82</td>\n",
       "      <td>6.29</td>\n",
       "      <td>51.89</td>\n",
       "      <td>5.66</td>\n",
       "      <td>18.55</td>\n",
       "      <td>4.09</td>\n",
       "      <td>10.69</td>\n",
       "    </tr>\n",
       "  </tbody>\n",
       "</table>\n",
       "</div>"
      ],
      "text/plain": [
       "   Coursera  Udemy  Kaggle Courses (i.e. Kaggle Learn)  Udacity  \\\n",
       "0     27.99  42.77                               18.87    22.96   \n",
       "\n",
       "   University Courses (resulting in a university degree)  DataCamp   edX  \\\n",
       "0                                               4.72         30.82  6.29   \n",
       "\n",
       "   Other  LinkedIn Learning  Fast.ai  None  DataQuest  \n",
       "0  51.89               5.66    18.55  4.09      10.69  "
      ]
     },
     "execution_count": 50,
     "metadata": {},
     "output_type": "execute_result"
    }
   ],
   "source": [
    "higher_courses_educ = br_courses_group.loc[br_courses_group['education_level'] == 'Higher Education'\n",
    "                                           ].drop(columns = ['education_level']).reset_index(drop = True)\n",
    "total_courses_educ = br_courses_educ.loc[br_courses_educ['education_level'] == 'Higher Education'].shape[0]\n",
    "np.round((higher_courses_educ/total_higher_educ*100), decimals=2)\n"
   ]
  },
  {
   "cell_type": "markdown",
   "metadata": {},
   "source": [
    "### Brazil Salary ###"
   ]
  },
  {
   "cell_type": "markdown",
   "metadata": {},
   "source": [
    "### General ###"
   ]
  },
  {
   "cell_type": "code",
   "execution_count": 51,
   "metadata": {
    "scrolled": true
   },
   "outputs": [
    {
     "data": {
      "text/plain": [
       "'What is your current yearly compensation (approximate $USD)?'"
      ]
     },
     "execution_count": 51,
     "metadata": {},
     "output_type": "execute_result"
    }
   ],
   "source": [
    "data['Q10'][0]"
   ]
  },
  {
   "cell_type": "code",
   "execution_count": 52,
   "metadata": {
    "scrolled": true
   },
   "outputs": [
    {
     "data": {
      "text/html": [
       "<div>\n",
       "<style scoped>\n",
       "    .dataframe tbody tr th:only-of-type {\n",
       "        vertical-align: middle;\n",
       "    }\n",
       "\n",
       "    .dataframe tbody tr th {\n",
       "        vertical-align: top;\n",
       "    }\n",
       "\n",
       "    .dataframe thead th {\n",
       "        text-align: right;\n",
       "    }\n",
       "</style>\n",
       "<table border=\"1\" class=\"dataframe\">\n",
       "  <thead>\n",
       "    <tr style=\"text-align: right;\">\n",
       "      <th></th>\n",
       "      <th>education_level</th>\n",
       "      <th>current role</th>\n",
       "      <th>yearly_compensation(USD)</th>\n",
       "    </tr>\n",
       "  </thead>\n",
       "  <tbody>\n",
       "    <tr>\n",
       "      <th>35</th>\n",
       "      <td>Higher Education</td>\n",
       "      <td>Data Scientist</td>\n",
       "      <td>10,000-14,999</td>\n",
       "    </tr>\n",
       "    <tr>\n",
       "      <th>38</th>\n",
       "      <td>Master’s degree</td>\n",
       "      <td>Data Analyst</td>\n",
       "      <td>25,000-29,999</td>\n",
       "    </tr>\n",
       "  </tbody>\n",
       "</table>\n",
       "</div>"
      ],
      "text/plain": [
       "     education_level    current role yearly_compensation(USD)\n",
       "35  Higher Education  Data Scientist            10,000-14,999\n",
       "38   Master’s degree    Data Analyst            25,000-29,999"
      ]
     },
     "execution_count": 52,
     "metadata": {},
     "output_type": "execute_result"
    }
   ],
   "source": [
    "brazil_salary = brazil_answers[['Q4', 'Q5','Q10']]\n",
    "brazil_salary.rename(columns={'Q4': 'education_level',\n",
    "                              'Q5': 'current role',\n",
    "                              'Q10': 'yearly_compensation(USD)'}, inplace = True)\n",
    "brazil_salary.fillna(value = 'no answer', inplace = True)\n",
    "\n",
    "brazil_salary['education_level'] = brazil_salary['education_level'].replace(\n",
    "                                  \"Bachelor’s degree\", 'Higher Education').replace(\n",
    "                                 'Professional degree', 'Higher Education').replace(\n",
    "                                \"Some college/university study without earning a bachelor’s degree\", \n",
    "                                'Higher Education')\n",
    "brazil_salary.head(2)"
   ]
  },
  {
   "cell_type": "markdown",
   "metadata": {},
   "source": [
    "It is important to notice that yearly_compensation is the USD salary in the year. We will change it to reais and by monthly "
   ]
  },
  {
   "cell_type": "code",
   "execution_count": 53,
   "metadata": {},
   "outputs": [
    {
     "data": {
      "text/plain": [
       "728"
      ]
     },
     "execution_count": 53,
     "metadata": {},
     "output_type": "execute_result"
    }
   ],
   "source": [
    "#checking answers again\n",
    "brazil_salary.shape[0]"
   ]
  },
  {
   "cell_type": "code",
   "execution_count": 54,
   "metadata": {},
   "outputs": [],
   "source": [
    "br_yearly_compensation = brazil_salary['yearly_compensation(USD)'].value_counts(dropna=False).reset_index(\n",
    "                        ).rename(columns={'index':'yearly_compensation(USD)',\n",
    "                                          'yearly_compensation(USD)': 'total_responses'})\n",
    "br_yearly_compensation['total per %'] = np.round(\n",
    "                        (br_yearly_compensation['total_responses']/br_yearly_compensation['total_responses'].sum())\n",
    "                        *100, decimals =2)\n",
    "br_yearly_compensation.sort_values(by= 'yearly_compensation(USD)')\n",
    "\n",
    "#sort_values by salary range\n",
    "br_yearly_compensation['sort']=br_yearly_compensation['yearly_compensation(USD)'].str.extract('(\\d+)', expand=False\n",
    "                                ).astype('float')\n",
    "br_yearly_compensation['sort'].fillna(value = -1, inplace = True) #insert value in NaN\n",
    "br_yearly_compensation = br_yearly_compensation.sort_values(by = 'sort').reset_index(drop=True)\n",
    "\n",
    "#aggregate some values \n",
    "sum_19_25 = br_yearly_compensation['total_responses'][19:25].sum()\n",
    "percent_19_25 = np.round((sum_19_25/br_yearly_compensation['total_responses'].sum())*100, decimals =2)\n",
    "br_yearly_compensation['yearly_compensation(USD)'][20] = '> 125,000'\n",
    "br_yearly_compensation['total_responses'][20] = sum_19_25\n",
    "br_yearly_compensation['total per %'][20] = percent_19_25\n",
    "\n",
    "br_yearly_compensation = br_yearly_compensation.drop(index = [21,22, 23,24,25]).reset_index(drop = True)"
   ]
  },
  {
   "cell_type": "code",
   "execution_count": 55,
   "metadata": {},
   "outputs": [
    {
     "data": {
      "image/png": "[encoded data removed]"
     },
     "metadata": {},
     "output_type": "display_data"
    }
   ],
   "source": [
    "colors = ['#0fa36b',] * 26\n",
    "colors[0] = 'lightslategray'\n",
    "colors[8] = 'darkgreen'\n",
    "\n",
    "fig = go.Figure([go.Bar(x=br_yearly_compensation['yearly_compensation(USD)'], \n",
    "                        y= br_yearly_compensation['total per %'],\n",
    "                        marker_color=colors)])\n",
    "fig.update_layout(title= \"Faixa Salarial Brasil\", \n",
    "                  yaxis_title = '% respostas',\n",
    "                 xaxis_title = 'faixa salarial')\n",
    "py.offline.iplot(fig, filename='horizontal-bar')"
   ]
  },
  {
   "cell_type": "code",
   "execution_count": 56,
   "metadata": {},
   "outputs": [
    {
     "data": {
      "text/html": [
       "<div>\n",
       "<style scoped>\n",
       "    .dataframe tbody tr th:only-of-type {\n",
       "        vertical-align: middle;\n",
       "    }\n",
       "\n",
       "    .dataframe tbody tr th {\n",
       "        vertical-align: top;\n",
       "    }\n",
       "\n",
       "    .dataframe thead th {\n",
       "        text-align: right;\n",
       "    }\n",
       "</style>\n",
       "<table border=\"1\" class=\"dataframe\">\n",
       "  <thead>\n",
       "    <tr style=\"text-align: right;\">\n",
       "      <th></th>\n",
       "      <th>yearly_compensation(USD)</th>\n",
       "      <th>total_responses</th>\n",
       "      <th>total per %</th>\n",
       "      <th>sort</th>\n",
       "    </tr>\n",
       "  </thead>\n",
       "  <tbody>\n",
       "    <tr>\n",
       "      <th>8</th>\n",
       "      <td>10,000-14,999</td>\n",
       "      <td>48</td>\n",
       "      <td>6.59</td>\n",
       "      <td>10.0</td>\n",
       "    </tr>\n",
       "  </tbody>\n",
       "</table>\n",
       "</div>"
      ],
      "text/plain": [
       "  yearly_compensation(USD)  total_responses  total per %  sort\n",
       "8            10,000-14,999               48         6.59  10.0"
      ]
     },
     "execution_count": 56,
     "metadata": {},
     "output_type": "execute_result"
    }
   ],
   "source": [
    "#checking the biggest salary range\n",
    "filter_salary = br_yearly_compensation.loc[br_yearly_compensation['yearly_compensation(USD)'] != 'no answer', \n",
    "                            'total per %'].max()\n",
    "br_yearly_compensation.loc[br_yearly_compensation['total per %'] == filter_salary]"
   ]
  },
  {
   "cell_type": "markdown",
   "metadata": {},
   "source": [
    "NaN values are understanding as \"no answer\" for us. It is around 26% of the people in Brazil who has answered the survey.</p>"
   ]
  },
  {
   "cell_type": "markdown",
   "metadata": {},
   "source": [
    "### Data Roles ####"
   ]
  },
  {
   "cell_type": "markdown",
   "metadata": {},
   "source": [
    "According Glassdor website, this are the mean monthly salary * to:\n",
    "\n",
    "\n",
    "1. Business Analyst: 3.264 reais\n",
    "2. Data Analyst: 4.249 reais\n",
    "3. Data Scientist: 7.146 reais\n",
    "\n",
    "\n",
    "*Source:*\n",
    "1. https://www.glassdoor.com.br/Sal%C3%A1rios/business-analyst-i-sal%C3%A1rio-SRCH_KO0,18.htm\n",
    "2. https://www.glassdoor.com.br/Sal%C3%A1rios/analista-de-dados-sal%C3%A1rio-SRCH_KO0,17.htm\n",
    "3. https://www.glassdoor.com.br/Sal%C3%A1rios/cientista-de-dados-sal%C3%A1rio-SRCH_KO0,18.htm\n",
    "\n",
    "The salary's value are in Real. Convert it to USD: (USD: 5,39) date 30/08\n",
    "1. USD 685.57 per month\n",
    "2. USD 788.31 per month\n",
    "3. USD 1325.78 per month\n",
    "\n",
    "**Yearly Compensation** :\n",
    "1. USD 8226.84\n",
    "2. USD 9459.72\n",
    "3. USD 15903.72\n",
    "\n",
    "**MY** Target Yearly Compensation = USD 10,018.55 (around R\\$ 3,500 per month)\n",
    "\n"
   ]
  },
  {
   "cell_type": "markdown",
   "metadata": {},
   "source": [
    "Create a 3 salary range:\n",
    "\n",
    "    Low income range( 0-10,000)\n",
    "\n",
    "    Mid income range(10,000- 20,000)\n",
    "\n",
    "    High income range(> 20,000 )\n"
   ]
  },
  {
   "cell_type": "code",
   "execution_count": 57,
   "metadata": {},
   "outputs": [],
   "source": [
    "#Adjusting data\n",
    "\n",
    "# checking currents that working with data in their daily activities\n",
    "brazil_salary = brazil_salary.loc[(brazil_salary['current role'] == 'Business Analyst') |\n",
    "                                                  (brazil_salary['current role'] == 'Data Analyst') |\n",
    "                                                  (brazil_salary['current role'] == 'Data Scientist') |\n",
    "                                                  (brazil_salary['current role'] == 'Statistician')]\n",
    "#create a new variable\n",
    "new_range=[]\n",
    "for salary in brazil_salary['yearly_compensation(USD)']:\n",
    "    if salary in ['$0-999','1,000-1,999','2,000-2,999','3,000-3,999','4,000-4,999','5,000-7,499','7,500-9,999']:\n",
    "        new_range.append('Low Income Range')\n",
    "    elif salary in ['10,000-14,999','15,000-19,999']:\n",
    "        new_range.append('Mid Income Range')\n",
    "    elif salary in ['no answer']:\n",
    "        new_range.append('no answer')\n",
    "    \n",
    "    else :\n",
    "        new_range.append('High Income Range')\n",
    "        \n",
    "brazil_salary['salary_range']=new_range"
   ]
  },
  {
   "cell_type": "code",
   "execution_count": 58,
   "metadata": {},
   "outputs": [
    {
     "data": {
      "text/html": [
       "<div>\n",
       "<style scoped>\n",
       "    .dataframe tbody tr th:only-of-type {\n",
       "        vertical-align: middle;\n",
       "    }\n",
       "\n",
       "    .dataframe tbody tr th {\n",
       "        vertical-align: top;\n",
       "    }\n",
       "\n",
       "    .dataframe thead th {\n",
       "        text-align: right;\n",
       "    }\n",
       "</style>\n",
       "<table border=\"1\" class=\"dataframe\">\n",
       "  <thead>\n",
       "    <tr style=\"text-align: right;\">\n",
       "      <th>current role</th>\n",
       "      <th>Business Analyst</th>\n",
       "      <th>Data Analyst</th>\n",
       "      <th>Data Scientist</th>\n",
       "      <th>Statistician</th>\n",
       "      <th>All</th>\n",
       "    </tr>\n",
       "    <tr>\n",
       "      <th>salary_range</th>\n",
       "      <th></th>\n",
       "      <th></th>\n",
       "      <th></th>\n",
       "      <th></th>\n",
       "      <th></th>\n",
       "    </tr>\n",
       "  </thead>\n",
       "  <tbody>\n",
       "    <tr>\n",
       "      <th>High Income Range</th>\n",
       "      <td>22</td>\n",
       "      <td>14</td>\n",
       "      <td>68</td>\n",
       "      <td>9</td>\n",
       "      <td>113</td>\n",
       "    </tr>\n",
       "    <tr>\n",
       "      <th>Low Income Range</th>\n",
       "      <td>16</td>\n",
       "      <td>35</td>\n",
       "      <td>50</td>\n",
       "      <td>3</td>\n",
       "      <td>104</td>\n",
       "    </tr>\n",
       "    <tr>\n",
       "      <th>Mid Income Range</th>\n",
       "      <td>8</td>\n",
       "      <td>11</td>\n",
       "      <td>26</td>\n",
       "      <td>0</td>\n",
       "      <td>45</td>\n",
       "    </tr>\n",
       "    <tr>\n",
       "      <th>no answer</th>\n",
       "      <td>2</td>\n",
       "      <td>3</td>\n",
       "      <td>20</td>\n",
       "      <td>4</td>\n",
       "      <td>29</td>\n",
       "    </tr>\n",
       "    <tr>\n",
       "      <th>All</th>\n",
       "      <td>48</td>\n",
       "      <td>63</td>\n",
       "      <td>164</td>\n",
       "      <td>16</td>\n",
       "      <td>291</td>\n",
       "    </tr>\n",
       "  </tbody>\n",
       "</table>\n",
       "</div>"
      ],
      "text/plain": [
       "current role       Business Analyst  Data Analyst  Data Scientist  \\\n",
       "salary_range                                                        \n",
       "High Income Range                22            14              68   \n",
       "Low Income Range                 16            35              50   \n",
       "Mid Income Range                  8            11              26   \n",
       "no answer                         2             3              20   \n",
       "All                              48            63             164   \n",
       "\n",
       "current role       Statistician  All  \n",
       "salary_range                          \n",
       "High Income Range             9  113  \n",
       "Low Income Range              3  104  \n",
       "Mid Income Range              0   45  \n",
       "no answer                     4   29  \n",
       "All                          16  291  "
      ]
     },
     "execution_count": 58,
     "metadata": {},
     "output_type": "execute_result"
    }
   ],
   "source": [
    "pd.crosstab(brazil_salary['salary_range'] ,brazil_salary['current role'], margins = True)"
   ]
  },
  {
   "cell_type": "code",
   "execution_count": 59,
   "metadata": {},
   "outputs": [],
   "source": [
    "br_role_salary = pd.crosstab(brazil_salary['salary_range'] ,brazil_salary['current role']).apply(lambda r: \n",
    "                                                                                np.round(((r/r.sum())*100), \n",
    "                                                                                decimals = 2), axis=0)\n",
    "br_role_salary = br_role_salary.reset_index()                                                                "
   ]
  },
  {
   "cell_type": "code",
   "execution_count": 60,
   "metadata": {
    "scrolled": true
   },
   "outputs": [
    {
     "data": {
      "text/html": [
       "<div>\n",
       "<style scoped>\n",
       "    .dataframe tbody tr th:only-of-type {\n",
       "        vertical-align: middle;\n",
       "    }\n",
       "\n",
       "    .dataframe tbody tr th {\n",
       "        vertical-align: top;\n",
       "    }\n",
       "\n",
       "    .dataframe thead th {\n",
       "        text-align: right;\n",
       "    }\n",
       "</style>\n",
       "<table border=\"1\" class=\"dataframe\">\n",
       "  <thead>\n",
       "    <tr style=\"text-align: right;\">\n",
       "      <th>current role</th>\n",
       "      <th>salary_range</th>\n",
       "      <th>Business Analyst</th>\n",
       "      <th>Data Analyst</th>\n",
       "      <th>Data Scientist</th>\n",
       "      <th>Statistician</th>\n",
       "    </tr>\n",
       "  </thead>\n",
       "  <tbody>\n",
       "    <tr>\n",
       "      <th>0</th>\n",
       "      <td>High Income Range</td>\n",
       "      <td>45.83</td>\n",
       "      <td>22.22</td>\n",
       "      <td>41.46</td>\n",
       "      <td>56.25</td>\n",
       "    </tr>\n",
       "    <tr>\n",
       "      <th>1</th>\n",
       "      <td>Low Income Range</td>\n",
       "      <td>33.33</td>\n",
       "      <td>55.56</td>\n",
       "      <td>30.49</td>\n",
       "      <td>18.75</td>\n",
       "    </tr>\n",
       "    <tr>\n",
       "      <th>2</th>\n",
       "      <td>Mid Income Range</td>\n",
       "      <td>16.67</td>\n",
       "      <td>17.46</td>\n",
       "      <td>15.85</td>\n",
       "      <td>0.00</td>\n",
       "    </tr>\n",
       "    <tr>\n",
       "      <th>3</th>\n",
       "      <td>no answer</td>\n",
       "      <td>4.17</td>\n",
       "      <td>4.76</td>\n",
       "      <td>12.20</td>\n",
       "      <td>25.00</td>\n",
       "    </tr>\n",
       "  </tbody>\n",
       "</table>\n",
       "</div>"
      ],
      "text/plain": [
       "current role       salary_range  Business Analyst  Data Analyst  \\\n",
       "0             High Income Range             45.83         22.22   \n",
       "1              Low Income Range             33.33         55.56   \n",
       "2              Mid Income Range             16.67         17.46   \n",
       "3                     no answer              4.17          4.76   \n",
       "\n",
       "current role  Data Scientist  Statistician  \n",
       "0                      41.46         56.25  \n",
       "1                      30.49         18.75  \n",
       "2                      15.85          0.00  \n",
       "3                      12.20         25.00  "
      ]
     },
     "execution_count": 60,
     "metadata": {},
     "output_type": "execute_result"
    }
   ],
   "source": [
    "br_role_salary"
   ]
  },
  {
   "cell_type": "code",
   "execution_count": 61,
   "metadata": {},
   "outputs": [
    {
     "data": {
      "text/html": [
       "<div>\n",
       "<style scoped>\n",
       "    .dataframe tbody tr th:only-of-type {\n",
       "        vertical-align: middle;\n",
       "    }\n",
       "\n",
       "    .dataframe tbody tr th {\n",
       "        vertical-align: top;\n",
       "    }\n",
       "\n",
       "    .dataframe thead th {\n",
       "        text-align: right;\n",
       "    }\n",
       "</style>\n",
       "<table border=\"1\" class=\"dataframe\">\n",
       "  <thead>\n",
       "    <tr style=\"text-align: right;\">\n",
       "      <th>education_level</th>\n",
       "      <th>salary_range</th>\n",
       "      <th>Doctoral degree</th>\n",
       "      <th>Higher Education</th>\n",
       "      <th>I prefer not to answer</th>\n",
       "      <th>Master’s degree</th>\n",
       "      <th>No formal education past high school</th>\n",
       "    </tr>\n",
       "  </thead>\n",
       "  <tbody>\n",
       "    <tr>\n",
       "      <th>0</th>\n",
       "      <td>High Income Range</td>\n",
       "      <td>46.43</td>\n",
       "      <td>29.84</td>\n",
       "      <td>33.33</td>\n",
       "      <td>44.78</td>\n",
       "      <td>100.0</td>\n",
       "    </tr>\n",
       "    <tr>\n",
       "      <th>1</th>\n",
       "      <td>Low Income Range</td>\n",
       "      <td>35.71</td>\n",
       "      <td>41.13</td>\n",
       "      <td>33.33</td>\n",
       "      <td>31.34</td>\n",
       "      <td>0.0</td>\n",
       "    </tr>\n",
       "    <tr>\n",
       "      <th>2</th>\n",
       "      <td>Mid Income Range</td>\n",
       "      <td>7.14</td>\n",
       "      <td>19.35</td>\n",
       "      <td>33.33</td>\n",
       "      <td>13.43</td>\n",
       "      <td>0.0</td>\n",
       "    </tr>\n",
       "    <tr>\n",
       "      <th>3</th>\n",
       "      <td>no answer</td>\n",
       "      <td>10.71</td>\n",
       "      <td>9.68</td>\n",
       "      <td>0.00</td>\n",
       "      <td>10.45</td>\n",
       "      <td>0.0</td>\n",
       "    </tr>\n",
       "  </tbody>\n",
       "</table>\n",
       "</div>"
      ],
      "text/plain": [
       "education_level       salary_range  Doctoral degree  Higher Education  \\\n",
       "0                High Income Range            46.43             29.84   \n",
       "1                 Low Income Range            35.71             41.13   \n",
       "2                 Mid Income Range             7.14             19.35   \n",
       "3                        no answer            10.71              9.68   \n",
       "\n",
       "education_level  I prefer not to answer  Master’s degree  \\\n",
       "0                                 33.33            44.78   \n",
       "1                                 33.33            31.34   \n",
       "2                                 33.33            13.43   \n",
       "3                                  0.00            10.45   \n",
       "\n",
       "education_level  No formal education past high school  \n",
       "0                                               100.0  \n",
       "1                                                 0.0  \n",
       "2                                                 0.0  \n",
       "3                                                 0.0  "
      ]
     },
     "execution_count": 61,
     "metadata": {},
     "output_type": "execute_result"
    }
   ],
   "source": [
    "br_educ_salary = pd.crosstab(brazil_salary['salary_range'] ,brazil_salary['education_level']).apply(lambda r: \n",
    "                                                                                np.round(((r/r.sum())*100), \n",
    "                                                                                decimals = 2), axis=0)\n",
    "br_educ_salary.reset_index()"
   ]
  },
  {
   "cell_type": "markdown",
   "metadata": {},
   "source": [
    "44% DA are bachelor's degree"
   ]
  },
  {
   "cell_type": "code",
   "execution_count": null,
   "metadata": {},
   "outputs": [],
   "source": []
  }
 ],
 "metadata": {
  "kernelspec": {
   "display_name": "Python 3",
   "language": "python",
   "name": "python3"
  },
  "language_info": {
   "codemirror_mode": {
    "name": "ipython",
    "version": 3
   },
   "file_extension": ".py",
   "mimetype": "text/x-python",
   "name": "python",
   "nbconvert_exporter": "python",
   "pygments_lexer": "ipython3",
   "version": "3.8.5"
  }
 },
 "nbformat": 4,
 "nbformat_minor": 4
}
