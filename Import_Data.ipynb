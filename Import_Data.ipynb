{
 "cells": [
  {
   "cell_type": "code",
   "execution_count": 1,
   "metadata": {},
   "outputs": [],
   "source": [
    "import os\n",
    "import json\n",
    "import kaggle\n",
    "import zipfile"
   ]
  },
  {
   "cell_type": "code",
   "execution_count": 31,
   "metadata": {},
   "outputs": [
    {
     "name": "stdout",
     "output_type": "stream",
     "text": [
      "kaggle-survey-2019.zip: Skipping, found more recently modified local copy (use --force to force download)\r\n"
     ]
    }
   ],
   "source": [
    "# import data from Kaggle API\n",
    "data = open ('/Users/pguisordi/.kaggle/kaggle.json', \"r\")\n",
    "credentials = json.loads(data.read()) \n",
    "os.environ['KAGGLE_USERNAME'] = credentials['username']\n",
    "os.environ['KAGGLE_KEY'] = credentials['key']\n",
    "!kaggle competitions download -c kaggle-survey-2019\n",
    "\n",
    "#Unziped data\n",
    "with zipfile.ZipFile('/Users/pguisordi/python_projects/trybe_test/kaggle-survey-2019.zip', 'r') as zip_ref:\n",
    "    zip_ref.extractall('/Users/pguisordi/python_projects/trybe_test/kaggle_survey_2019')"
   ]
  },
  {
   "cell_type": "code",
   "execution_count": null,
   "metadata": {},
   "outputs": [],
   "source": []
  }
 ],
 "metadata": {
  "kernelspec": {
   "display_name": "Python 3",
   "language": "python",
   "name": "python3"
  },
  "language_info": {
   "codemirror_mode": {
    "name": "ipython",
    "version": 3
   },
   "file_extension": ".py",
   "mimetype": "text/x-python",
   "name": "python",
   "nbconvert_exporter": "python",
   "pygments_lexer": "ipython3",
   "version": "3.8.5"
  }
 },
 "nbformat": 4,
 "nbformat_minor": 4
}
