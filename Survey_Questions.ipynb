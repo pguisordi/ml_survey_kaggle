{
 "cells": [
  {
   "cell_type": "markdown",
   "metadata": {},
   "source": [
    " **Desafio:**  Lançar um curso de Dados para público leigo - a idéia é com base na pesquisa realizada pelo Kaggle tirarmos alguns insights do que poderia ser interessante pensarmos em um curso de Dados na escola"
   ]
  },
  {
   "cell_type": "markdown",
   "metadata": {},
   "source": [
    " ### <center>Perguntas realizadas pela Pesquisa   </center>"
   ]
  },
  {
   "cell_type": "code",
   "execution_count": 1,
   "metadata": {},
   "outputs": [],
   "source": [
    "import pandas as pd"
   ]
  },
  {
   "cell_type": "code",
   "execution_count": 16,
   "metadata": {},
   "outputs": [],
   "source": [
    "pd.options.display.max_columns = None\n",
    "data = pd.read_csv('/Users/pguisordi/python_projects/trybe_test/kaggle_survey_2019/questions_only.csv',\n",
    "                   encoding='utf8', index_col=0)"
   ]
  },
  {
   "cell_type": "code",
   "execution_count": 17,
   "metadata": {},
   "outputs": [
    {
     "name": "stdout",
     "output_type": "stream",
     "text": [
      "0 Time from Start to Finish (seconds)\n",
      "Duration (in seconds)    What is your age (# years)?\n",
      "Name: Q1, dtype: object\n",
      "1 Time from Start to Finish (seconds)\n",
      "Duration (in seconds)    What is your gender? - Selected Choice\n",
      "Name: Q2, dtype: object\n",
      "2 Time from Start to Finish (seconds)\n",
      "Duration (in seconds)    In which country do you currently reside?\n",
      "Name: Q3, dtype: object\n",
      "3 Time from Start to Finish (seconds)\n",
      "Duration (in seconds)    What is the highest level of formal education ...\n",
      "Name: Q4, dtype: object\n",
      "4 Time from Start to Finish (seconds)\n",
      "Duration (in seconds)    Select the title most similar to your current ...\n",
      "Name: Q5, dtype: object\n",
      "5 Time from Start to Finish (seconds)\n",
      "Duration (in seconds)    What is the size of the company where you are ...\n",
      "Name: Q6, dtype: object\n",
      "6 Time from Start to Finish (seconds)\n",
      "Duration (in seconds)    Approximately how many individuals are respons...\n",
      "Name: Q7, dtype: object\n",
      "7 Time from Start to Finish (seconds)\n",
      "Duration (in seconds)    Does your current employer incorporate machine...\n",
      "Name: Q8, dtype: object\n",
      "8 Time from Start to Finish (seconds)\n",
      "Duration (in seconds)    Select any activities that make up an importan...\n",
      "Name: Q9, dtype: object\n",
      "9 Time from Start to Finish (seconds)\n",
      "Duration (in seconds)    What is your current yearly compensation (appr...\n",
      "Name: Q10, dtype: object\n",
      "10 Time from Start to Finish (seconds)\n",
      "Duration (in seconds)    Approximately how much money have you spent on...\n",
      "Name: Q11, dtype: object\n",
      "11 Time from Start to Finish (seconds)\n",
      "Duration (in seconds)    Who/what are your favorite media sources that ...\n",
      "Name: Q12, dtype: object\n",
      "12 Time from Start to Finish (seconds)\n",
      "Duration (in seconds)    On which platforms have you begun or completed...\n",
      "Name: Q13, dtype: object\n",
      "13 Time from Start to Finish (seconds)\n",
      "Duration (in seconds)    What is the primary tool that you use at work ...\n",
      "Name: Q14, dtype: object\n",
      "14 Time from Start to Finish (seconds)\n",
      "Duration (in seconds)    How long have you been writing code to analyze...\n",
      "Name: Q15, dtype: object\n",
      "15 Time from Start to Finish (seconds)\n",
      "Duration (in seconds)    Which of the following integrated development ...\n",
      "Name: Q16, dtype: object\n",
      "16 Time from Start to Finish (seconds)\n",
      "Duration (in seconds)    Which of the following hosted notebook product...\n",
      "Name: Q17, dtype: object\n",
      "17 Time from Start to Finish (seconds)\n",
      "Duration (in seconds)    What programming languages do you use on a reg...\n",
      "Name: Q18, dtype: object\n",
      "18 Time from Start to Finish (seconds)\n",
      "Duration (in seconds)    What programming language would you recommend ...\n",
      "Name: Q19, dtype: object\n",
      "19 Time from Start to Finish (seconds)\n",
      "Duration (in seconds)    What data visualization libraries or tools do ...\n",
      "Name: Q20, dtype: object\n",
      "20 Time from Start to Finish (seconds)\n",
      "Duration (in seconds)    Which types of specialized hardware do you use...\n",
      "Name: Q21, dtype: object\n",
      "21 Time from Start to Finish (seconds)\n",
      "Duration (in seconds)    Have you ever used a TPU (tensor processing un...\n",
      "Name: Q22, dtype: object\n",
      "22 Time from Start to Finish (seconds)\n",
      "Duration (in seconds)    For how many years have you used machine learn...\n",
      "Name: Q23, dtype: object\n",
      "23 Time from Start to Finish (seconds)\n",
      "Duration (in seconds)    Which of the following ML algorithms do you us...\n",
      "Name: Q24, dtype: object\n",
      "24 Time from Start to Finish (seconds)\n",
      "Duration (in seconds)    Which categories of ML tools do you use on a r...\n",
      "Name: Q25, dtype: object\n",
      "25 Time from Start to Finish (seconds)\n",
      "Duration (in seconds)    Which categories of computer vision methods do...\n",
      "Name: Q26, dtype: object\n",
      "26 Time from Start to Finish (seconds)\n",
      "Duration (in seconds)    Which of the following natural language proces...\n",
      "Name: Q27, dtype: object\n",
      "27 Time from Start to Finish (seconds)\n",
      "Duration (in seconds)    Which of the following machine learning framew...\n",
      "Name: Q28, dtype: object\n",
      "28 Time from Start to Finish (seconds)\n",
      "Duration (in seconds)    Which of the following cloud computing platfor...\n",
      "Name: Q29, dtype: object\n",
      "29 Time from Start to Finish (seconds)\n",
      "Duration (in seconds)    Which specific cloud computing products do you...\n",
      "Name: Q30, dtype: object\n",
      "30 Time from Start to Finish (seconds)\n",
      "Duration (in seconds)    Which specific big data / analytics products d...\n",
      "Name: Q31, dtype: object\n",
      "31 Time from Start to Finish (seconds)\n",
      "Duration (in seconds)    Which of the following machine learning produc...\n",
      "Name: Q32, dtype: object\n",
      "32 Time from Start to Finish (seconds)\n",
      "Duration (in seconds)    Which automated machine learning tools (or par...\n",
      "Name: Q33, dtype: object\n",
      "33 Time from Start to Finish (seconds)\n",
      "Duration (in seconds)    Which of the following relational database pro...\n",
      "Name: Q34, dtype: object\n"
     ]
    }
   ],
   "source": [
    "col = data.columns\n",
    "for i in range(data.shape[1]):\n",
    "    print(i,data[col[i]])"
   ]
  },
  {
   "cell_type": "markdown",
   "metadata": {},
   "source": [
    "**Dados Importantes para analisarmos**\n",
    "- idade (Q1)\n",
    "- sexo  (Q2)\n",
    "- país de residência (será que teremos BR? - podemos olhar de modo mais específico se tivermos) (Q3)\n",
    "- salário (converter em reais para termos base de comparação - olhar depois infos como GlassDor)(Q10)\n",
    "- Media (onde acessam novos conteúdos) (Q12)\n",
    "- plataformas de ensino acessadas (Q13)\n",
    "- linguagens de programação utilizadas (Q18)\n",
    "- clound computing plataforms(Q29)\n",
    "- clound computing products (Q30)\n",
    "- automated machine learning tools(Q33)"
   ]
  },
  {
   "cell_type": "code",
   "execution_count": null,
   "metadata": {},
   "outputs": [],
   "source": []
  },
  {
   "cell_type": "code",
   "execution_count": null,
   "metadata": {},
   "outputs": [],
   "source": []
  }
 ],
 "metadata": {
  "kernelspec": {
   "display_name": "Python 3",
   "language": "python",
   "name": "python3"
  },
  "language_info": {
   "codemirror_mode": {
    "name": "ipython",
    "version": 3
   },
   "file_extension": ".py",
   "mimetype": "text/x-python",
   "name": "python",
   "nbconvert_exporter": "python",
   "pygments_lexer": "ipython3",
   "version": "3.8.5"
  }
 },
 "nbformat": 4,
 "nbformat_minor": 4
}
